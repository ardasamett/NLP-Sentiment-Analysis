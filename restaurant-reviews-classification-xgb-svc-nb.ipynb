{
 "cells": [
  {
   "cell_type": "markdown",
   "id": "10b08119",
   "metadata": {
    "papermill": {
     "duration": 0.044672,
     "end_time": "2021-08-15T09:49:14.307397",
     "exception": false,
     "start_time": "2021-08-15T09:49:14.262725",
     "status": "completed"
    },
    "tags": []
   },
   "source": [
    "<h2 style=\"background-color:#166088;font-family:newtimeroman;font-size:250%;text-align:center;border-radius: 10px 10px;color:#dbe9ee\">Welcome</h2>\n",
    "\n",
    "<h4><center>This notebook is a simple sentiment analysis exercise. The aim is to have an introductory knowledge of NLP's \"Data Preprocessing\", \"Bag Of Words\" and \"Machine Learning\" steps</center></h4>"
   ]
  },
  {
   "cell_type": "markdown",
   "id": "6466bbdd",
   "metadata": {
    "papermill": {
     "duration": 0.041903,
     "end_time": "2021-08-15T09:49:14.391260",
     "exception": false,
     "start_time": "2021-08-15T09:49:14.349357",
     "status": "completed"
    },
    "tags": []
   },
   "source": [
    "<h2 style=\"background-color:#4F6D7A;font-family:newtimeroman;font-size:200%;text-align:left;border-radius: 7px 7px;color:#dbe9ee\">Table Of Contents</h2>\n",
    "\n",
    "* [Imports](#1)<br>\n",
    "\n",
    "\n",
    "* [Data Preprocessing](#2)\n",
    "    * [First Look](#16)\n",
    "    * [Dictation](#3)\n",
    "    * [Capitalization](#4)\n",
    "    * [Stop Words / Corpus / Stemmer](#5)\n",
    "    * [Implementation of all data](#6)<br>\n",
    "    \n",
    "\n",
    "    \n",
    "* [Bag Of Words](#7)\n",
    "    * [Count Vectorizer / Sparse Matrix](#8)\n",
    "    \n",
    "\n",
    "    \n",
    "* [Machine Learning: Classification](#10)\n",
    "    * [Naive Bayes](#11)\n",
    "    * [Neural Networks](#12)\n",
    "    * [XGBoost](#13)\n",
    "    * [CatBoost](#14)\n",
    "    * [SVC](#15)\n",
    "    \n",
    "\n",
    "    \n",
    "* [Conclusion](#17)\n"
   ]
  },
  {
   "cell_type": "markdown",
   "id": "80bc1e52",
   "metadata": {
    "papermill": {
     "duration": 0.053727,
     "end_time": "2021-08-15T09:49:14.495944",
     "exception": false,
     "start_time": "2021-08-15T09:49:14.442217",
     "status": "completed"
    },
    "tags": []
   },
   "source": [
    "<h3 style=\"background-color:#4F6D7A;font-family:newtimeroman;font-size:175%;text-align:left;border-radius: 5px 5px;color:#dbe9ee\">Imports</h3><a id=\"1\"></a>"
   ]
  },
  {
   "cell_type": "code",
   "execution_count": 1,
   "id": "2c2cd3f4",
   "metadata": {
    "execution": {
     "iopub.execute_input": "2021-08-15T09:49:14.583994Z",
     "iopub.status.busy": "2021-08-15T09:49:14.582927Z",
     "iopub.status.idle": "2021-08-15T09:49:16.741313Z",
     "shell.execute_reply": "2021-08-15T09:49:16.740509Z",
     "shell.execute_reply.started": "2021-08-15T09:44:36.543961Z"
    },
    "papermill": {
     "duration": 2.204206,
     "end_time": "2021-08-15T09:49:16.741482",
     "exception": false,
     "start_time": "2021-08-15T09:49:14.537276",
     "status": "completed"
    },
    "tags": []
   },
   "outputs": [],
   "source": [
    "import pandas as pd\n",
    "import numpy as np\n",
    "import seaborn as sns\n",
    "import re \n",
    "import nltk\n",
    "from nltk.stem.porter import PorterStemmer\n",
    "from nltk.corpus import stopwords\n",
    "from sklearn.feature_extraction.text import CountVectorizer\n",
    "from sklearn.model_selection import train_test_split,GridSearchCV\n",
    "from sklearn.metrics import confusion_matrix,accuracy_score,classification_report\n",
    "\n",
    "from sklearn.naive_bayes import BernoulliNB,GaussianNB,MultinomialNB\n",
    "from sklearn.neural_network import MLPClassifier\n",
    "from xgboost import XGBClassifier\n",
    "from catboost import CatBoostClassifier\n",
    "from sklearn.svm import SVC"
   ]
  },
  {
   "cell_type": "markdown",
   "id": "fbe351bc",
   "metadata": {
    "papermill": {
     "duration": 0.041268,
     "end_time": "2021-08-15T09:49:16.825807",
     "exception": false,
     "start_time": "2021-08-15T09:49:16.784539",
     "status": "completed"
    },
    "tags": []
   },
   "source": [
    "<h3 style=\"background-color:#4F6D7A;font-family:newtimeroman;font-size:175%;text-align:left;border-radius: 5px 5px;color:#dbe9ee\">Data Preprocessing</h3><a id=\"2\"></a>"
   ]
  },
  {
   "cell_type": "markdown",
   "id": "f2ea57ed",
   "metadata": {
    "papermill": {
     "duration": 0.04081,
     "end_time": "2021-08-15T09:49:16.908768",
     "exception": false,
     "start_time": "2021-08-15T09:49:16.867958",
     "status": "completed"
    },
    "tags": []
   },
   "source": [
    "<h3 style=\"background-color:#4A6FA5;font-family:newtimeroman;font-size:150%;text-align:left;border-radius: 5px 5px;color:#dbe9ee\">First Look</h3><a id=\"16\"></a>\n",
    "\n"
   ]
  },
  {
   "cell_type": "code",
   "execution_count": 2,
   "id": "4a0600e9",
   "metadata": {
    "execution": {
     "iopub.execute_input": "2021-08-15T09:49:16.996056Z",
     "iopub.status.busy": "2021-08-15T09:49:16.995398Z",
     "iopub.status.idle": "2021-08-15T09:49:17.023212Z",
     "shell.execute_reply": "2021-08-15T09:49:17.022670Z",
     "shell.execute_reply.started": "2021-08-15T09:13:57.088142Z"
    },
    "papermill": {
     "duration": 0.073623,
     "end_time": "2021-08-15T09:49:17.023369",
     "exception": false,
     "start_time": "2021-08-15T09:49:16.949746",
     "status": "completed"
    },
    "tags": []
   },
   "outputs": [],
   "source": [
    "df = pd.read_csv(\"../input/reviews/Restaurant_Reviews.tsv\",delimiter=\"\\t\")"
   ]
  },
  {
   "cell_type": "code",
   "execution_count": 3,
   "id": "282e5a60",
   "metadata": {
    "execution": {
     "iopub.execute_input": "2021-08-15T09:49:17.119010Z",
     "iopub.status.busy": "2021-08-15T09:49:17.118365Z",
     "iopub.status.idle": "2021-08-15T09:49:17.137132Z",
     "shell.execute_reply": "2021-08-15T09:49:17.136469Z",
     "shell.execute_reply.started": "2021-08-15T09:13:59.091639Z"
    },
    "papermill": {
     "duration": 0.07277,
     "end_time": "2021-08-15T09:49:17.137278",
     "exception": false,
     "start_time": "2021-08-15T09:49:17.064508",
     "status": "completed"
    },
    "tags": []
   },
   "outputs": [
    {
     "data": {
      "text/html": [
       "<div>\n",
       "<style scoped>\n",
       "    .dataframe tbody tr th:only-of-type {\n",
       "        vertical-align: middle;\n",
       "    }\n",
       "\n",
       "    .dataframe tbody tr th {\n",
       "        vertical-align: top;\n",
       "    }\n",
       "\n",
       "    .dataframe thead th {\n",
       "        text-align: right;\n",
       "    }\n",
       "</style>\n",
       "<table border=\"1\" class=\"dataframe\">\n",
       "  <thead>\n",
       "    <tr style=\"text-align: right;\">\n",
       "      <th></th>\n",
       "      <th>Review</th>\n",
       "      <th>Liked</th>\n",
       "    </tr>\n",
       "  </thead>\n",
       "  <tbody>\n",
       "    <tr>\n",
       "      <th>0</th>\n",
       "      <td>Wow... Loved this place.</td>\n",
       "      <td>1</td>\n",
       "    </tr>\n",
       "    <tr>\n",
       "      <th>1</th>\n",
       "      <td>Crust is not good.</td>\n",
       "      <td>0</td>\n",
       "    </tr>\n",
       "    <tr>\n",
       "      <th>2</th>\n",
       "      <td>Not tasty and the texture was just nasty.</td>\n",
       "      <td>0</td>\n",
       "    </tr>\n",
       "    <tr>\n",
       "      <th>3</th>\n",
       "      <td>Stopped by during the late May bank holiday of...</td>\n",
       "      <td>1</td>\n",
       "    </tr>\n",
       "    <tr>\n",
       "      <th>4</th>\n",
       "      <td>The selection on the menu was great and so wer...</td>\n",
       "      <td>1</td>\n",
       "    </tr>\n",
       "  </tbody>\n",
       "</table>\n",
       "</div>"
      ],
      "text/plain": [
       "                                              Review  Liked\n",
       "0                           Wow... Loved this place.      1\n",
       "1                                 Crust is not good.      0\n",
       "2          Not tasty and the texture was just nasty.      0\n",
       "3  Stopped by during the late May bank holiday of...      1\n",
       "4  The selection on the menu was great and so wer...      1"
      ]
     },
     "execution_count": 3,
     "metadata": {},
     "output_type": "execute_result"
    }
   ],
   "source": [
    "df.head()"
   ]
  },
  {
   "cell_type": "markdown",
   "id": "b617b2eb",
   "metadata": {
    "papermill": {
     "duration": 0.04189,
     "end_time": "2021-08-15T09:49:17.224154",
     "exception": false,
     "start_time": "2021-08-15T09:49:17.182264",
     "status": "completed"
    },
    "tags": []
   },
   "source": [
    "* There 2 columns,\n",
    "    * \"Review\" column shows reviews,<br>\n",
    "    * \"Liked\" column gives information about their positive or negative reviews"
   ]
  },
  {
   "cell_type": "code",
   "execution_count": 4,
   "id": "97181069",
   "metadata": {
    "execution": {
     "iopub.execute_input": "2021-08-15T09:49:17.326175Z",
     "iopub.status.busy": "2021-08-15T09:49:17.325550Z",
     "iopub.status.idle": "2021-08-15T09:49:17.328847Z",
     "shell.execute_reply": "2021-08-15T09:49:17.328285Z",
     "shell.execute_reply.started": "2021-08-15T09:13:59.852154Z"
    },
    "papermill": {
     "duration": 0.063449,
     "end_time": "2021-08-15T09:49:17.328991",
     "exception": false,
     "start_time": "2021-08-15T09:49:17.265542",
     "status": "completed"
    },
    "tags": []
   },
   "outputs": [
    {
     "name": "stdout",
     "output_type": "stream",
     "text": [
      "<class 'pandas.core.frame.DataFrame'>\n",
      "RangeIndex: 1000 entries, 0 to 999\n",
      "Data columns (total 2 columns):\n",
      " #   Column  Non-Null Count  Dtype \n",
      "---  ------  --------------  ----- \n",
      " 0   Review  1000 non-null   object\n",
      " 1   Liked   1000 non-null   int64 \n",
      "dtypes: int64(1), object(1)\n",
      "memory usage: 15.8+ KB\n"
     ]
    }
   ],
   "source": [
    "df.info()"
   ]
  },
  {
   "cell_type": "markdown",
   "id": "5996761b",
   "metadata": {
    "papermill": {
     "duration": 0.042336,
     "end_time": "2021-08-15T09:49:17.413172",
     "exception": false,
     "start_time": "2021-08-15T09:49:17.370836",
     "status": "completed"
    },
    "tags": []
   },
   "source": [
    "* Dtypes looks good and it's nice that there is no missing value."
   ]
  },
  {
   "cell_type": "code",
   "execution_count": 5,
   "id": "ca460096",
   "metadata": {
    "execution": {
     "iopub.execute_input": "2021-08-15T09:49:17.503965Z",
     "iopub.status.busy": "2021-08-15T09:49:17.503119Z",
     "iopub.status.idle": "2021-08-15T09:49:17.648000Z",
     "shell.execute_reply": "2021-08-15T09:49:17.647385Z",
     "shell.execute_reply.started": "2021-08-15T09:14:01.120275Z"
    },
    "papermill": {
     "duration": 0.191925,
     "end_time": "2021-08-15T09:49:17.648156",
     "exception": false,
     "start_time": "2021-08-15T09:49:17.456231",
     "status": "completed"
    },
    "tags": []
   },
   "outputs": [
    {
     "data": {
      "image/png": "[encoded data removed]",
      "text/plain": [
       "<Figure size 432x288 with 1 Axes>"
      ]
     },
     "metadata": {
      "needs_background": "light"
     },
     "output_type": "display_data"
    }
   ],
   "source": [
    "sns.countplot(x='Liked', data=df);"
   ]
  },
  {
   "cell_type": "markdown",
   "id": "9684d539",
   "metadata": {
    "papermill": {
     "duration": 0.042595,
     "end_time": "2021-08-15T09:49:17.733123",
     "exception": false,
     "start_time": "2021-08-15T09:49:17.690528",
     "status": "completed"
    },
    "tags": []
   },
   "source": [
    "* The distribution of the dependent variable is important for the models to be built. Otherwise, there may be bias. The distribution is fine in this dataset."
   ]
  },
  {
   "cell_type": "markdown",
   "id": "ffa31392",
   "metadata": {
    "papermill": {
     "duration": 0.043951,
     "end_time": "2021-08-15T09:49:17.821411",
     "exception": false,
     "start_time": "2021-08-15T09:49:17.777460",
     "status": "completed"
    },
    "tags": []
   },
   "source": [
    "<h3 style=\"background-color:#4A6FA5;font-family:newtimeroman;font-size:150%;text-align:left;border-radius: 5px 5px;color:#dbe9ee\">Dictation</h3><a id=\"3\"></a>\n",
    "\n"
   ]
  },
  {
   "cell_type": "markdown",
   "id": "e050c970",
   "metadata": {
    "papermill": {
     "duration": 0.042416,
     "end_time": "2021-08-15T09:49:17.906454",
     "exception": false,
     "start_time": "2021-08-15T09:49:17.864038",
     "status": "completed"
    },
    "tags": []
   },
   "source": [
    "<h5>Firstly, let's select a row to understand how it works</h5>"
   ]
  },
  {
   "cell_type": "code",
   "execution_count": 6,
   "id": "7e14616b",
   "metadata": {
    "execution": {
     "iopub.execute_input": "2021-08-15T09:49:17.998054Z",
     "iopub.status.busy": "2021-08-15T09:49:17.997341Z",
     "iopub.status.idle": "2021-08-15T09:49:18.000851Z",
     "shell.execute_reply": "2021-08-15T09:49:18.000264Z",
     "shell.execute_reply.started": "2021-08-15T09:14:04.125186Z"
    },
    "papermill": {
     "duration": 0.05139,
     "end_time": "2021-08-15T09:49:18.001002",
     "exception": false,
     "start_time": "2021-08-15T09:49:17.949612",
     "status": "completed"
    },
    "tags": []
   },
   "outputs": [
    {
     "data": {
      "text/plain": [
       "'Wow... Loved this place.'"
      ]
     },
     "execution_count": 6,
     "metadata": {},
     "output_type": "execute_result"
    }
   ],
   "source": [
    "# Selected first row.\n",
    "df[\"Review\"][0]"
   ]
  },
  {
   "cell_type": "markdown",
   "id": "7994c011",
   "metadata": {
    "papermill": {
     "duration": 0.043075,
     "end_time": "2021-08-15T09:49:18.087727",
     "exception": false,
     "start_time": "2021-08-15T09:49:18.044652",
     "status": "completed"
    },
    "tags": []
   },
   "source": [
    "* An accurate and successful data pre-processing is important for us to develop successful ML models. Therefore, we need to clean up the characters we do not want in the reviews (things that will reduce the success of the model) and create clean data.\n",
    "\n",
    "* Let's clear everything but words in our data (like punctuation)"
   ]
  },
  {
   "cell_type": "code",
   "execution_count": 7,
   "id": "fb41a5a9",
   "metadata": {
    "execution": {
     "iopub.execute_input": "2021-08-15T09:49:18.179959Z",
     "iopub.status.busy": "2021-08-15T09:49:18.179070Z",
     "iopub.status.idle": "2021-08-15T09:49:18.183817Z",
     "shell.execute_reply": "2021-08-15T09:49:18.183222Z",
     "shell.execute_reply.started": "2021-08-15T09:14:04.543134Z"
    },
    "papermill": {
     "duration": 0.053554,
     "end_time": "2021-08-15T09:49:18.183953",
     "exception": false,
     "start_time": "2021-08-15T09:49:18.130399",
     "status": "completed"
    },
    "tags": []
   },
   "outputs": [
    {
     "data": {
      "text/plain": [
       "'Wow    Loved this place '"
      ]
     },
     "execution_count": 7,
     "metadata": {},
     "output_type": "execute_result"
    }
   ],
   "source": [
    "review = re.sub(\"[^a-zA-Z]\",\" \",df[\"Review\"][0])\n",
    "review"
   ]
  },
  {
   "cell_type": "markdown",
   "id": "0cd583e2",
   "metadata": {
    "papermill": {
     "duration": 0.045222,
     "end_time": "2021-08-15T09:49:18.283947",
     "exception": false,
     "start_time": "2021-08-15T09:49:18.238725",
     "status": "completed"
    },
    "tags": []
   },
   "source": [
    "> re.sub(\"[^a-zA-Z]\",\" \",df[\"Review\"][0])\n",
    "\n",
    "* **It Means:** Replace all non-[a-zA-Z] values in df[\"Review\"][0] with \" \"\n",
    "    * Here, we use the expression \"^\" to mean \"non-[a-zA-Z]\" ie: [^a-zA-Z]. This is used to say the opposite in python"
   ]
  },
  {
   "cell_type": "code",
   "execution_count": 8,
   "id": "ec7ea395",
   "metadata": {
    "execution": {
     "iopub.execute_input": "2021-08-15T09:49:18.376573Z",
     "iopub.status.busy": "2021-08-15T09:49:18.375915Z",
     "iopub.status.idle": "2021-08-15T09:49:18.379108Z",
     "shell.execute_reply": "2021-08-15T09:49:18.378360Z",
     "shell.execute_reply.started": "2021-08-15T09:14:04.995137Z"
    },
    "papermill": {
     "duration": 0.050571,
     "end_time": "2021-08-15T09:49:18.379274",
     "exception": false,
     "start_time": "2021-08-15T09:49:18.328703",
     "status": "completed"
    },
    "tags": []
   },
   "outputs": [
    {
     "name": "stdout",
     "output_type": "stream",
     "text": [
      "Unclean review: Wow... Loved this place. \n",
      "Clean review: Wow    Loved this place \n"
     ]
    }
   ],
   "source": [
    "print(f'Unclean review: {df[\"Review\"][0]} \\nClean review: {review}')"
   ]
  },
  {
   "cell_type": "markdown",
   "id": "c997eaa9",
   "metadata": {
    "papermill": {
     "duration": 0.043093,
     "end_time": "2021-08-15T09:49:18.466994",
     "exception": false,
     "start_time": "2021-08-15T09:49:18.423901",
     "status": "completed"
    },
    "tags": []
   },
   "source": [
    "<h3 style=\"background-color:#4A6FA5;font-family:newtimeroman;font-size:150%;text-align:left;border-radius: 5px 5px;color:#dbe9ee\">Capitalization</h3><a id=\"4\"></a>"
   ]
  },
  {
   "cell_type": "markdown",
   "id": "e0c00fcb",
   "metadata": {
    "papermill": {
     "duration": 0.043898,
     "end_time": "2021-08-15T09:49:18.556204",
     "exception": false,
     "start_time": "2021-08-15T09:49:18.512306",
     "status": "completed"
    },
    "tags": []
   },
   "source": [
    "Capitalization isn't always a problem, and can sometimes contain important information for the feature.\n",
    "\n",
    "For Example;\n",
    "\n",
    "* i hate this product\n",
    "* i HATE this product\n",
    "\n",
    "We can think that these two sentences that are the same have different effects due to the use of capital letters.\n",
    "\n",
    "But for our case, we will make all the words lowercase to learn how to use"
   ]
  },
  {
   "cell_type": "code",
   "execution_count": 9,
   "id": "b3e65100",
   "metadata": {
    "execution": {
     "iopub.execute_input": "2021-08-15T09:49:18.651647Z",
     "iopub.status.busy": "2021-08-15T09:49:18.651003Z",
     "iopub.status.idle": "2021-08-15T09:49:18.659297Z",
     "shell.execute_reply": "2021-08-15T09:49:18.658644Z",
     "shell.execute_reply.started": "2021-08-15T09:14:05.531398Z"
    },
    "papermill": {
     "duration": 0.056003,
     "end_time": "2021-08-15T09:49:18.659566",
     "exception": false,
     "start_time": "2021-08-15T09:49:18.603563",
     "status": "completed"
    },
    "tags": []
   },
   "outputs": [
    {
     "data": {
      "text/plain": [
       "'Wow    Loved this place '"
      ]
     },
     "execution_count": 9,
     "metadata": {},
     "output_type": "execute_result"
    }
   ],
   "source": [
    "# remember review\n",
    "review"
   ]
  },
  {
   "cell_type": "code",
   "execution_count": 10,
   "id": "c7b33fa9",
   "metadata": {
    "execution": {
     "iopub.execute_input": "2021-08-15T09:49:18.753776Z",
     "iopub.status.busy": "2021-08-15T09:49:18.753033Z",
     "iopub.status.idle": "2021-08-15T09:49:18.758080Z",
     "shell.execute_reply": "2021-08-15T09:49:18.757483Z",
     "shell.execute_reply.started": "2021-08-15T09:14:05.735145Z"
    },
    "papermill": {
     "duration": 0.054532,
     "end_time": "2021-08-15T09:49:18.758241",
     "exception": false,
     "start_time": "2021-08-15T09:49:18.703709",
     "status": "completed"
    },
    "tags": []
   },
   "outputs": [
    {
     "data": {
      "text/plain": [
       "str"
      ]
     },
     "execution_count": 10,
     "metadata": {},
     "output_type": "execute_result"
    }
   ],
   "source": [
    "# let's check review's data-type\n",
    "type(review)"
   ]
  },
  {
   "cell_type": "code",
   "execution_count": 11,
   "id": "f13c30c6",
   "metadata": {
    "execution": {
     "iopub.execute_input": "2021-08-15T09:49:18.853077Z",
     "iopub.status.busy": "2021-08-15T09:49:18.852057Z",
     "iopub.status.idle": "2021-08-15T09:49:18.855058Z",
     "shell.execute_reply": "2021-08-15T09:49:18.854535Z",
     "shell.execute_reply.started": "2021-08-15T09:14:05.956236Z"
    },
    "papermill": {
     "duration": 0.052044,
     "end_time": "2021-08-15T09:49:18.855227",
     "exception": false,
     "start_time": "2021-08-15T09:49:18.803183",
     "status": "completed"
    },
    "tags": []
   },
   "outputs": [],
   "source": [
    "# if review is a string-type, we can use string methods\n",
    "review = review.lower()"
   ]
  },
  {
   "cell_type": "code",
   "execution_count": 12,
   "id": "ae314e6e",
   "metadata": {
    "execution": {
     "iopub.execute_input": "2021-08-15T09:49:18.947824Z",
     "iopub.status.busy": "2021-08-15T09:49:18.946954Z",
     "iopub.status.idle": "2021-08-15T09:49:18.952635Z",
     "shell.execute_reply": "2021-08-15T09:49:18.953193Z",
     "shell.execute_reply.started": "2021-08-15T09:14:06.168064Z"
    },
    "papermill": {
     "duration": 0.053124,
     "end_time": "2021-08-15T09:49:18.953425",
     "exception": false,
     "start_time": "2021-08-15T09:49:18.900301",
     "status": "completed"
    },
    "tags": []
   },
   "outputs": [
    {
     "data": {
      "text/plain": [
       "'wow    loved this place '"
      ]
     },
     "execution_count": 12,
     "metadata": {},
     "output_type": "execute_result"
    }
   ],
   "source": [
    "# let's check\n",
    "review"
   ]
  },
  {
   "cell_type": "markdown",
   "id": "bf65da27",
   "metadata": {
    "papermill": {
     "duration": 0.046289,
     "end_time": "2021-08-15T09:49:19.046975",
     "exception": false,
     "start_time": "2021-08-15T09:49:19.000686",
     "status": "completed"
    },
    "tags": []
   },
   "source": [
    "<h3 style=\"background-color:#4A6FA5;font-family:newtimeroman;font-size:150%;text-align:left;border-radius: 5px 5px;color:#dbe9ee\">Stop Words / Corpus / Stemmer</h3><a id=\"5\"></a>"
   ]
  },
  {
   "cell_type": "markdown",
   "id": "11e8a17e",
   "metadata": {
    "papermill": {
     "duration": 0.048926,
     "end_time": "2021-08-15T09:49:19.142217",
     "exception": false,
     "start_time": "2021-08-15T09:49:19.093291",
     "status": "completed"
    },
    "tags": []
   },
   "source": [
    "Removing stop words is important to create clean data. The reason for this is to better understand the value implied by the comment.\n",
    "\n",
    "For Example;\n",
    "\n",
    "* \"i like this product\"\n",
    "\n",
    "When you remove the stop words from the sentence, it becomes \"like product\". and although these two sentences have the same meaning, the sentence without a stopword is a cleaner data"
   ]
  },
  {
   "cell_type": "code",
   "execution_count": 13,
   "id": "ba9ed91d",
   "metadata": {
    "execution": {
     "iopub.execute_input": "2021-08-15T09:49:19.240809Z",
     "iopub.status.busy": "2021-08-15T09:49:19.240215Z",
     "iopub.status.idle": "2021-08-15T09:49:19.517453Z",
     "shell.execute_reply": "2021-08-15T09:49:19.516408Z",
     "shell.execute_reply.started": "2021-08-15T09:14:06.788110Z"
    },
    "papermill": {
     "duration": 0.327977,
     "end_time": "2021-08-15T09:49:19.517629",
     "exception": false,
     "start_time": "2021-08-15T09:49:19.189652",
     "status": "completed"
    },
    "tags": []
   },
   "outputs": [
    {
     "name": "stdout",
     "output_type": "stream",
     "text": [
      "[nltk_data] Downloading package stopwords to /usr/share/nltk_data...\n",
      "[nltk_data]   Package stopwords is already up-to-date!\n"
     ]
    },
    {
     "data": {
      "text/plain": [
       "True"
      ]
     },
     "execution_count": 13,
     "metadata": {},
     "output_type": "execute_result"
    }
   ],
   "source": [
    "# We can download stopwords;\n",
    "\n",
    "nltk.download(\"stopwords\")"
   ]
  },
  {
   "cell_type": "markdown",
   "id": "0dd1a817",
   "metadata": {
    "papermill": {
     "duration": 0.046454,
     "end_time": "2021-08-15T09:49:19.609666",
     "exception": false,
     "start_time": "2021-08-15T09:49:19.563212",
     "status": "completed"
    },
    "tags": []
   },
   "source": [
    "Another important issue for clean data is to find the root of the word.\n",
    "\n",
    "If we take the root of the word \"liked\", which is the verb of the sentence \"I liked this product\", it becomes \"like\" and it makes the data clean even if it doesn't change anything semantically\n",
    "\n"
   ]
  },
  {
   "cell_type": "code",
   "execution_count": 14,
   "id": "9a06c113",
   "metadata": {
    "execution": {
     "iopub.execute_input": "2021-08-15T09:49:19.707553Z",
     "iopub.status.busy": "2021-08-15T09:49:19.706916Z",
     "iopub.status.idle": "2021-08-15T09:49:19.709732Z",
     "shell.execute_reply": "2021-08-15T09:49:19.710245Z",
     "shell.execute_reply.started": "2021-08-15T09:14:07.206067Z"
    },
    "papermill": {
     "duration": 0.05574,
     "end_time": "2021-08-15T09:49:19.710421",
     "exception": false,
     "start_time": "2021-08-15T09:49:19.654681",
     "status": "completed"
    },
    "tags": []
   },
   "outputs": [
    {
     "data": {
      "text/plain": [
       "['wow', 'loved', 'this', 'place']"
      ]
     },
     "execution_count": 14,
     "metadata": {},
     "output_type": "execute_result"
    }
   ],
   "source": [
    "# We are preparing our data for the process we will do \n",
    "# by converting the string review variable into a list.\n",
    "review = review.split()\n",
    "review"
   ]
  },
  {
   "cell_type": "code",
   "execution_count": 15,
   "id": "48c8853e",
   "metadata": {
    "execution": {
     "iopub.execute_input": "2021-08-15T09:49:19.805176Z",
     "iopub.status.busy": "2021-08-15T09:49:19.804560Z",
     "iopub.status.idle": "2021-08-15T09:49:19.813269Z",
     "shell.execute_reply": "2021-08-15T09:49:19.812579Z",
     "shell.execute_reply.started": "2021-08-15T09:14:07.403105Z"
    },
    "papermill": {
     "duration": 0.057354,
     "end_time": "2021-08-15T09:49:19.813430",
     "exception": false,
     "start_time": "2021-08-15T09:49:19.756076",
     "status": "completed"
    },
    "tags": []
   },
   "outputs": [],
   "source": [
    "ps = PorterStemmer()\n",
    "review = [ps.stem(word) for word in review if not word in set(stopwords.words(\"english\"))]"
   ]
  },
  {
   "cell_type": "markdown",
   "id": "67f3c266",
   "metadata": {
    "papermill": {
     "duration": 0.046652,
     "end_time": "2021-08-15T09:49:19.906516",
     "exception": false,
     "start_time": "2021-08-15T09:49:19.859864",
     "status": "completed"
    },
    "tags": []
   },
   "source": [
    "* **It means:** It creates a new list called review and there is no stop word in it. It also takes root words."
   ]
  },
  {
   "cell_type": "code",
   "execution_count": 16,
   "id": "38ee7029",
   "metadata": {
    "execution": {
     "iopub.execute_input": "2021-08-15T09:49:20.002746Z",
     "iopub.status.busy": "2021-08-15T09:49:20.002107Z",
     "iopub.status.idle": "2021-08-15T09:49:20.005966Z",
     "shell.execute_reply": "2021-08-15T09:49:20.005497Z",
     "shell.execute_reply.started": "2021-08-15T09:14:07.747222Z"
    },
    "papermill": {
     "duration": 0.054157,
     "end_time": "2021-08-15T09:49:20.006109",
     "exception": false,
     "start_time": "2021-08-15T09:49:19.951952",
     "status": "completed"
    },
    "tags": []
   },
   "outputs": [
    {
     "data": {
      "text/plain": [
       "['wow', 'love', 'place']"
      ]
     },
     "execution_count": 16,
     "metadata": {},
     "output_type": "execute_result"
    }
   ],
   "source": [
    "review"
   ]
  },
  {
   "cell_type": "code",
   "execution_count": 17,
   "id": "4a87e9b0",
   "metadata": {
    "execution": {
     "iopub.execute_input": "2021-08-15T09:49:20.101384Z",
     "iopub.status.busy": "2021-08-15T09:49:20.100781Z",
     "iopub.status.idle": "2021-08-15T09:49:20.105848Z",
     "shell.execute_reply": "2021-08-15T09:49:20.106291Z",
     "shell.execute_reply.started": "2021-08-15T09:14:07.971187Z"
    },
    "papermill": {
     "duration": 0.0543,
     "end_time": "2021-08-15T09:49:20.106457",
     "exception": false,
     "start_time": "2021-08-15T09:49:20.052157",
     "status": "completed"
    },
    "tags": []
   },
   "outputs": [
    {
     "name": "stdout",
     "output_type": "stream",
     "text": [
      "\n",
      "unprocessed data: Wow... Loved this place.\n",
      "preprocessed data: wow love place\n",
      "\n"
     ]
    }
   ],
   "source": [
    "print(f\"\"\"\n",
    "unprocessed data: {df[\"Review\"][0]}\n",
    "preprocessed data: {\" \".join(review)}\n",
    "\"\"\")"
   ]
  },
  {
   "cell_type": "markdown",
   "id": "1e08c764",
   "metadata": {
    "papermill": {
     "duration": 0.046848,
     "end_time": "2021-08-15T09:49:20.198632",
     "exception": false,
     "start_time": "2021-08-15T09:49:20.151784",
     "status": "completed"
    },
    "tags": []
   },
   "source": [
    "* Although as you can see there is no semantic difference, the review looks cleaner now"
   ]
  },
  {
   "cell_type": "markdown",
   "id": "9d4af4ce",
   "metadata": {
    "papermill": {
     "duration": 0.046641,
     "end_time": "2021-08-15T09:49:20.293416",
     "exception": false,
     "start_time": "2021-08-15T09:49:20.246775",
     "status": "completed"
    },
    "tags": []
   },
   "source": [
    "<h3 style=\"background-color:#4A6FA5;font-family:newtimeroman;font-size:150%;text-align:left;border-radius: 5px 5px;color:#dbe9ee\">Implementation of all data</h3><a id=\"6\"></a>"
   ]
  },
  {
   "cell_type": "markdown",
   "id": "566a3d3f",
   "metadata": {
    "papermill": {
     "duration": 0.045936,
     "end_time": "2021-08-15T09:49:20.386239",
     "exception": false,
     "start_time": "2021-08-15T09:49:20.340303",
     "status": "completed"
    },
    "tags": []
   },
   "source": [
    "Now that we have explained what we want to do through a single review, we can now preprocess the entire dataset."
   ]
  },
  {
   "cell_type": "code",
   "execution_count": 18,
   "id": "c8a34781",
   "metadata": {
    "execution": {
     "iopub.execute_input": "2021-08-15T09:49:20.486487Z",
     "iopub.status.busy": "2021-08-15T09:49:20.485771Z",
     "iopub.status.idle": "2021-08-15T09:49:22.199296Z",
     "shell.execute_reply": "2021-08-15T09:49:22.198576Z",
     "shell.execute_reply.started": "2021-08-15T09:14:08.798632Z"
    },
    "papermill": {
     "duration": 1.764924,
     "end_time": "2021-08-15T09:49:22.199588",
     "exception": false,
     "start_time": "2021-08-15T09:49:20.434664",
     "status": "completed"
    },
    "tags": []
   },
   "outputs": [],
   "source": [
    "reviews = []\n",
    "for i in range(len(df)):\n",
    "    review = re.sub(\"[^a-zA-Z]\",\" \",df[\"Review\"][i])\n",
    "    review = review.lower()\n",
    "    review = review.split()\n",
    "    review = [ps.stem(word) for word in review if not word in str(stopwords.words(\"english\"))]\n",
    "    reviews.append(\" \".join(review))"
   ]
  },
  {
   "cell_type": "code",
   "execution_count": 19,
   "id": "7c4bb3b6",
   "metadata": {
    "execution": {
     "iopub.execute_input": "2021-08-15T09:49:22.303240Z",
     "iopub.status.busy": "2021-08-15T09:49:22.302584Z",
     "iopub.status.idle": "2021-08-15T09:49:22.305674Z",
     "shell.execute_reply": "2021-08-15T09:49:22.306178Z",
     "shell.execute_reply.started": "2021-08-15T09:14:10.716561Z"
    },
    "papermill": {
     "duration": 0.05908,
     "end_time": "2021-08-15T09:49:22.306364",
     "exception": false,
     "start_time": "2021-08-15T09:49:22.247284",
     "status": "completed"
    },
    "tags": []
   },
   "outputs": [
    {
     "data": {
      "text/plain": [
       "['wow love place',\n",
       " 'crust good',\n",
       " 'tasti textur nasti',\n",
       " 'stop late may bank holiday rick steve recommend love']"
      ]
     },
     "execution_count": 19,
     "metadata": {},
     "output_type": "execute_result"
    }
   ],
   "source": [
    "# Take a look \n",
    "\n",
    "reviews[:4]"
   ]
  },
  {
   "cell_type": "markdown",
   "id": "3ab209f7",
   "metadata": {
    "papermill": {
     "duration": 0.051099,
     "end_time": "2021-08-15T09:49:22.406036",
     "exception": false,
     "start_time": "2021-08-15T09:49:22.354937",
     "status": "completed"
    },
    "tags": []
   },
   "source": [
    "Up to the present;\n",
    "\n",
    "* We cleaned reviews from unnecessary characters\n",
    "* We have rooted the sentences\n",
    "\n",
    "But; This does not mean that all our data is clean. Although it depends on the dataset, maybe dozens of more cleaning operations could be done even in this dataset. This notebook will not also mention all the details"
   ]
  },
  {
   "cell_type": "markdown",
   "id": "c6e5826c",
   "metadata": {
    "papermill": {
     "duration": 0.047865,
     "end_time": "2021-08-15T09:49:22.503672",
     "exception": false,
     "start_time": "2021-08-15T09:49:22.455807",
     "status": "completed"
    },
    "tags": []
   },
   "source": [
    "<h3 style=\"background-color:#4F6D7A;font-family:newtimeroman;font-size:175%;text-align:left;border-radius: 5px 5px;color:#dbe9ee\">Bag Of Words</h3><a id=\"7\"></a>"
   ]
  },
  {
   "cell_type": "markdown",
   "id": "0bef0a12",
   "metadata": {
    "papermill": {
     "duration": 0.051391,
     "end_time": "2021-08-15T09:49:22.607686",
     "exception": false,
     "start_time": "2021-08-15T09:49:22.556295",
     "status": "completed"
    },
    "tags": []
   },
   "source": [
    "We have finished the data preprocessing phase. The current stage is: \"Bag Of Words\""
   ]
  },
  {
   "cell_type": "markdown",
   "id": "4f49daa3",
   "metadata": {
    "papermill": {
     "duration": 0.048314,
     "end_time": "2021-08-15T09:49:22.702297",
     "exception": false,
     "start_time": "2021-08-15T09:49:22.653983",
     "status": "completed"
    },
    "tags": []
   },
   "source": [
    "<h3 style=\"background-color:#4A6FA5;font-family:newtimeroman;font-size:150%;text-align:left;border-radius: 5px 5px;color:#dbe9ee\">Count Vectorizer / Sparse Matrix</h3><a id=\"8\"></a>"
   ]
  },
  {
   "cell_type": "markdown",
   "id": "b5790160",
   "metadata": {
    "papermill": {
     "duration": 0.049432,
     "end_time": "2021-08-15T09:49:22.798636",
     "exception": false,
     "start_time": "2021-08-15T09:49:22.749204",
     "status": "completed"
    },
    "tags": []
   },
   "source": [
    "With \"Count Vectorizer\" we will create Sparse Matrix of reviews"
   ]
  },
  {
   "cell_type": "code",
   "execution_count": 20,
   "id": "7272afff",
   "metadata": {
    "execution": {
     "iopub.execute_input": "2021-08-15T09:49:22.900827Z",
     "iopub.status.busy": "2021-08-15T09:49:22.900221Z",
     "iopub.status.idle": "2021-08-15T09:49:22.904670Z",
     "shell.execute_reply": "2021-08-15T09:49:22.905131Z",
     "shell.execute_reply.started": "2021-08-15T09:14:10.724718Z"
    },
    "papermill": {
     "duration": 0.058036,
     "end_time": "2021-08-15T09:49:22.905326",
     "exception": false,
     "start_time": "2021-08-15T09:49:22.847290",
     "status": "completed"
    },
    "tags": []
   },
   "outputs": [],
   "source": [
    "cv = CountVectorizer(max_features = 1500)"
   ]
  },
  {
   "cell_type": "code",
   "execution_count": 21,
   "id": "346dd3dd",
   "metadata": {
    "execution": {
     "iopub.execute_input": "2021-08-15T09:49:23.014588Z",
     "iopub.status.busy": "2021-08-15T09:49:23.013880Z",
     "iopub.status.idle": "2021-08-15T09:49:23.029892Z",
     "shell.execute_reply": "2021-08-15T09:49:23.029385Z",
     "shell.execute_reply.started": "2021-08-15T09:14:10.735432Z"
    },
    "papermill": {
     "duration": 0.076195,
     "end_time": "2021-08-15T09:49:23.030038",
     "exception": false,
     "start_time": "2021-08-15T09:49:22.953843",
     "status": "completed"
    },
    "tags": []
   },
   "outputs": [],
   "source": [
    "# Select undependent variables and converting to array\n",
    "X = cv.fit_transform(reviews).toarray()"
   ]
  },
  {
   "cell_type": "code",
   "execution_count": 22,
   "id": "7adacac1",
   "metadata": {
    "execution": {
     "iopub.execute_input": "2021-08-15T09:49:23.134500Z",
     "iopub.status.busy": "2021-08-15T09:49:23.133793Z",
     "iopub.status.idle": "2021-08-15T09:49:23.136933Z",
     "shell.execute_reply": "2021-08-15T09:49:23.137523Z",
     "shell.execute_reply.started": "2021-08-15T09:14:10.765345Z"
    },
    "papermill": {
     "duration": 0.056351,
     "end_time": "2021-08-15T09:49:23.137703",
     "exception": false,
     "start_time": "2021-08-15T09:49:23.081352",
     "status": "completed"
    },
    "tags": []
   },
   "outputs": [
    {
     "data": {
      "text/plain": [
       "array([[0, 0, 0, ..., 0, 0, 0],\n",
       "       [0, 0, 0, ..., 0, 0, 0],\n",
       "       [0, 0, 0, ..., 0, 0, 0],\n",
       "       ...,\n",
       "       [0, 0, 0, ..., 0, 0, 0],\n",
       "       [0, 0, 0, ..., 0, 0, 0],\n",
       "       [0, 0, 0, ..., 0, 0, 0]])"
      ]
     },
     "execution_count": 22,
     "metadata": {},
     "output_type": "execute_result"
    }
   ],
   "source": [
    "# Sparse Matrix\n",
    "X"
   ]
  },
  {
   "cell_type": "code",
   "execution_count": 23,
   "id": "93246a58",
   "metadata": {
    "execution": {
     "iopub.execute_input": "2021-08-15T09:49:23.248128Z",
     "iopub.status.busy": "2021-08-15T09:49:23.247497Z",
     "iopub.status.idle": "2021-08-15T09:49:23.252854Z",
     "shell.execute_reply": "2021-08-15T09:49:23.253426Z",
     "shell.execute_reply.started": "2021-08-15T09:14:10.772766Z"
    },
    "papermill": {
     "duration": 0.059161,
     "end_time": "2021-08-15T09:49:23.253598",
     "exception": false,
     "start_time": "2021-08-15T09:49:23.194437",
     "status": "completed"
    },
    "tags": []
   },
   "outputs": [
    {
     "data": {
      "text/plain": [
       "(1000, 1500)"
      ]
     },
     "execution_count": 23,
     "metadata": {},
     "output_type": "execute_result"
    }
   ],
   "source": [
    "# Shape | x: data, y: max_features (that we have defined)\n",
    "X.shape "
   ]
  },
  {
   "cell_type": "code",
   "execution_count": 24,
   "id": "517200a3",
   "metadata": {
    "execution": {
     "iopub.execute_input": "2021-08-15T09:49:23.361302Z",
     "iopub.status.busy": "2021-08-15T09:49:23.360426Z",
     "iopub.status.idle": "2021-08-15T09:49:23.363936Z",
     "shell.execute_reply": "2021-08-15T09:49:23.364563Z",
     "shell.execute_reply.started": "2021-08-15T09:14:10.906229Z"
    },
    "papermill": {
     "duration": 0.061162,
     "end_time": "2021-08-15T09:49:23.364783",
     "exception": false,
     "start_time": "2021-08-15T09:49:23.303621",
     "status": "completed"
    },
    "tags": []
   },
   "outputs": [],
   "source": [
    "# Select dependent variables\n",
    "y = df[\"Liked\"].values"
   ]
  },
  {
   "cell_type": "markdown",
   "id": "38f2bc02",
   "metadata": {
    "papermill": {
     "duration": 0.049336,
     "end_time": "2021-08-15T09:49:23.463879",
     "exception": false,
     "start_time": "2021-08-15T09:49:23.414543",
     "status": "completed"
    },
    "tags": []
   },
   "source": [
    "<h3 style=\"background-color:#4F6D7A;font-family:newtimeroman;font-size:175%;text-align:left;border-radius: 5px 5px;color:#dbe9ee\">Machine Learning: Classification</h3><a id=\"10\"></a>"
   ]
  },
  {
   "cell_type": "markdown",
   "id": "b1bbf399",
   "metadata": {
    "papermill": {
     "duration": 0.049583,
     "end_time": "2021-08-15T09:49:23.562921",
     "exception": false,
     "start_time": "2021-08-15T09:49:23.513338",
     "status": "completed"
    },
    "tags": []
   },
   "source": [
    "Before we move on to the algorithms, we have to split our dataset into train/test"
   ]
  },
  {
   "cell_type": "code",
   "execution_count": 25,
   "id": "5534eec2",
   "metadata": {
    "execution": {
     "iopub.execute_input": "2021-08-15T09:49:23.667030Z",
     "iopub.status.busy": "2021-08-15T09:49:23.666431Z",
     "iopub.status.idle": "2021-08-15T09:49:23.678562Z",
     "shell.execute_reply": "2021-08-15T09:49:23.679027Z",
     "shell.execute_reply.started": "2021-08-15T09:14:11.543161Z"
    },
    "papermill": {
     "duration": 0.065477,
     "end_time": "2021-08-15T09:49:23.679221",
     "exception": false,
     "start_time": "2021-08-15T09:49:23.613744",
     "status": "completed"
    },
    "tags": []
   },
   "outputs": [],
   "source": [
    "X_train,X_test,y_train,y_test = train_test_split(X,y,test_size=0.2,random_state=0)"
   ]
  },
  {
   "cell_type": "code",
   "execution_count": 26,
   "id": "788ad9a1",
   "metadata": {
    "execution": {
     "iopub.execute_input": "2021-08-15T09:49:23.780615Z",
     "iopub.status.busy": "2021-08-15T09:49:23.779333Z",
     "iopub.status.idle": "2021-08-15T09:49:23.783595Z",
     "shell.execute_reply": "2021-08-15T09:49:23.784110Z",
     "shell.execute_reply.started": "2021-08-15T09:14:12.748260Z"
    },
    "papermill": {
     "duration": 0.057566,
     "end_time": "2021-08-15T09:49:23.784309",
     "exception": false,
     "start_time": "2021-08-15T09:49:23.726743",
     "status": "completed"
    },
    "tags": []
   },
   "outputs": [],
   "source": [
    "# to store accuracy scores\n",
    "algorithms = {} "
   ]
  },
  {
   "cell_type": "markdown",
   "id": "595a7d9f",
   "metadata": {
    "papermill": {
     "duration": 0.050404,
     "end_time": "2021-08-15T09:49:23.883951",
     "exception": false,
     "start_time": "2021-08-15T09:49:23.833547",
     "status": "completed"
    },
    "tags": []
   },
   "source": [
    "<h3 style=\"background-color:#4A6FA5;font-family:newtimeroman;font-size:150%;text-align:left;border-radius: 5px 5px;color:#dbe9ee\">Naive Bayes</h3><a id=\"11\"></a>"
   ]
  },
  {
   "cell_type": "code",
   "execution_count": 27,
   "id": "786429f5",
   "metadata": {
    "execution": {
     "iopub.execute_input": "2021-08-15T09:49:23.982607Z",
     "iopub.status.busy": "2021-08-15T09:49:23.981903Z",
     "iopub.status.idle": "2021-08-15T09:49:24.091337Z",
     "shell.execute_reply": "2021-08-15T09:49:24.092131Z",
     "shell.execute_reply.started": "2021-08-15T09:14:13.388540Z"
    },
    "papermill": {
     "duration": 0.160758,
     "end_time": "2021-08-15T09:49:24.092386",
     "exception": false,
     "start_time": "2021-08-15T09:49:23.931628",
     "status": "completed"
    },
    "tags": []
   },
   "outputs": [
    {
     "name": "stdout",
     "output_type": "stream",
     "text": [
      "=> Algorithm: BernoulliNB\n",
      "Confusion Matrix:\n",
      "\n",
      " [[73 24]\n",
      " [21 82]] \n",
      "\n",
      "Accuracy Score: 0.775\n",
      " Classification Report:\n",
      "\n",
      "              precision    recall  f1-score   support\n",
      "\n",
      "           0       0.78      0.75      0.76        97\n",
      "           1       0.77      0.80      0.78       103\n",
      "\n",
      "    accuracy                           0.78       200\n",
      "   macro avg       0.78      0.77      0.77       200\n",
      "weighted avg       0.78      0.78      0.77       200\n",
      "\n",
      "-------------------------\n",
      "=> Algorithm: GaussianNB\n",
      "Confusion Matrix:\n",
      "\n",
      " [[55 42]\n",
      " [12 91]] \n",
      "\n",
      "Accuracy Score: 0.73\n",
      " Classification Report:\n",
      "\n",
      "              precision    recall  f1-score   support\n",
      "\n",
      "           0       0.82      0.57      0.67        97\n",
      "           1       0.68      0.88      0.77       103\n",
      "\n",
      "    accuracy                           0.73       200\n",
      "   macro avg       0.75      0.73      0.72       200\n",
      "weighted avg       0.75      0.73      0.72       200\n",
      "\n",
      "-------------------------\n",
      "=> Algorithm: MultinomialNB\n",
      "Confusion Matrix:\n",
      "\n",
      " [[72 25]\n",
      " [21 82]] \n",
      "\n",
      "Accuracy Score: 0.77\n",
      " Classification Report:\n",
      "\n",
      "              precision    recall  f1-score   support\n",
      "\n",
      "           0       0.77      0.74      0.76        97\n",
      "           1       0.77      0.80      0.78       103\n",
      "\n",
      "    accuracy                           0.77       200\n",
      "   macro avg       0.77      0.77      0.77       200\n",
      "weighted avg       0.77      0.77      0.77       200\n",
      "\n",
      "-------------------------\n"
     ]
    }
   ],
   "source": [
    "nb_algorithms = [BernoulliNB,GaussianNB,MultinomialNB]\n",
    "for algorithm in nb_algorithms:\n",
    "    model = algorithm().fit(X_train,y_train)\n",
    "    y_pred = model.predict(X_test)\n",
    "    cm = confusion_matrix(y_test,y_pred)\n",
    "\n",
    "    \n",
    "    print(f'=> Algorithm: {algorithm.__name__}\\nConfusion Matrix:\\n\\n {cm} \\n\\nAccuracy Score: {accuracy_score(y_test,y_pred)}\\n Classification Report:\\n\\n{classification_report(y_test,y_pred)}\\n{\"-\"*25}')\n",
    "    algorithms[algorithm.__name__] = accuracy_score(y_test,y_pred)"
   ]
  },
  {
   "cell_type": "markdown",
   "id": "16f4677f",
   "metadata": {
    "papermill": {
     "duration": 0.055792,
     "end_time": "2021-08-15T09:49:24.240211",
     "exception": false,
     "start_time": "2021-08-15T09:49:24.184419",
     "status": "completed"
    },
    "tags": []
   },
   "source": [
    "<h3 style=\"background-color:#4A6FA5;font-family:newtimeroman;font-size:150%;text-align:left;border-radius: 5px 5px;color:#dbe9ee\">Neural Networks</h3><a id=\"12\"></a>"
   ]
  },
  {
   "cell_type": "code",
   "execution_count": 28,
   "id": "c2259991",
   "metadata": {
    "_kg_hide-output": true,
    "execution": {
     "iopub.execute_input": "2021-08-15T09:49:24.342821Z",
     "iopub.status.busy": "2021-08-15T09:49:24.342010Z",
     "iopub.status.idle": "2021-08-15T09:49:39.597983Z",
     "shell.execute_reply": "2021-08-15T09:49:39.599038Z",
     "shell.execute_reply.started": "2021-08-15T09:14:13.479283Z"
    },
    "papermill": {
     "duration": 15.312782,
     "end_time": "2021-08-15T09:49:39.599379",
     "exception": false,
     "start_time": "2021-08-15T09:49:24.286597",
     "status": "completed"
    },
    "tags": []
   },
   "outputs": [],
   "source": [
    "mlpc_model = MLPClassifier(activation=\"logistic\",max_iter=10000).fit(X_train,y_train)\n",
    "y_pred = mlpc_model.predict(X_test)"
   ]
  },
  {
   "cell_type": "code",
   "execution_count": 29,
   "id": "bfbed15f",
   "metadata": {
    "execution": {
     "iopub.execute_input": "2021-08-15T09:49:39.765432Z",
     "iopub.status.busy": "2021-08-15T09:49:39.764538Z",
     "iopub.status.idle": "2021-08-15T09:49:39.768796Z",
     "shell.execute_reply": "2021-08-15T09:49:39.768073Z",
     "shell.execute_reply.started": "2021-08-15T09:14:24.628370Z"
    },
    "papermill": {
     "duration": 0.066486,
     "end_time": "2021-08-15T09:49:39.768986",
     "exception": false,
     "start_time": "2021-08-15T09:49:39.702500",
     "status": "completed"
    },
    "tags": []
   },
   "outputs": [
    {
     "name": "stdout",
     "output_type": "stream",
     "text": [
      "Accuracy Score: 0.755\n"
     ]
    }
   ],
   "source": [
    "algorithms[\"MLPClassifier\"] = accuracy_score(y_test,y_pred)\n",
    "print(\"Accuracy Score:\", accuracy_score(y_test,y_pred))"
   ]
  },
  {
   "cell_type": "code",
   "execution_count": 30,
   "id": "4f712ee1",
   "metadata": {
    "execution": {
     "iopub.execute_input": "2021-08-15T09:49:39.873164Z",
     "iopub.status.busy": "2021-08-15T09:49:39.872152Z",
     "iopub.status.idle": "2021-08-15T09:49:39.880452Z",
     "shell.execute_reply": "2021-08-15T09:49:39.880972Z",
     "shell.execute_reply.started": "2021-08-15T09:14:24.649229Z"
    },
    "papermill": {
     "duration": 0.062635,
     "end_time": "2021-08-15T09:49:39.881185",
     "exception": false,
     "start_time": "2021-08-15T09:49:39.818550",
     "status": "completed"
    },
    "tags": []
   },
   "outputs": [
    {
     "name": "stdout",
     "output_type": "stream",
     "text": [
      "              precision    recall  f1-score   support\n",
      "\n",
      "           0       0.76      0.73      0.74        97\n",
      "           1       0.75      0.78      0.77       103\n",
      "\n",
      "    accuracy                           0.76       200\n",
      "   macro avg       0.76      0.75      0.75       200\n",
      "weighted avg       0.76      0.76      0.75       200\n",
      "\n"
     ]
    }
   ],
   "source": [
    "print(classification_report(y_test,y_pred))"
   ]
  },
  {
   "cell_type": "markdown",
   "id": "40ad6570",
   "metadata": {
    "papermill": {
     "duration": 0.046437,
     "end_time": "2021-08-15T09:49:39.977296",
     "exception": false,
     "start_time": "2021-08-15T09:49:39.930859",
     "status": "completed"
    },
    "tags": []
   },
   "source": [
    "<h3 style=\"background-color:#4A6FA5;font-family:newtimeroman;font-size:150%;text-align:left;border-radius: 5px 5px;color:#dbe9ee\">XGBoost</h3><a id=\"13\"></a>"
   ]
  },
  {
   "cell_type": "code",
   "execution_count": 31,
   "id": "3f3dddf6",
   "metadata": {
    "_kg_hide-output": true,
    "execution": {
     "iopub.execute_input": "2021-08-15T09:49:40.078371Z",
     "iopub.status.busy": "2021-08-15T09:49:40.077706Z",
     "iopub.status.idle": "2021-08-15T09:49:42.217031Z",
     "shell.execute_reply": "2021-08-15T09:49:42.217669Z",
     "shell.execute_reply.started": "2021-08-15T09:14:24.675642Z"
    },
    "papermill": {
     "duration": 2.191104,
     "end_time": "2021-08-15T09:49:42.217879",
     "exception": false,
     "start_time": "2021-08-15T09:49:40.026775",
     "status": "completed"
    },
    "tags": []
   },
   "outputs": [
    {
     "name": "stderr",
     "output_type": "stream",
     "text": [
      "/opt/conda/lib/python3.7/site-packages/xgboost/sklearn.py:1146: UserWarning: The use of label encoder in XGBClassifier is deprecated and will be removed in a future release. To remove this warning, do the following: 1) Pass option use_label_encoder=False when constructing XGBClassifier object; and 2) Encode your labels (y) as integers starting with 0, i.e. 0, 1, 2, ..., [num_class - 1].\n",
      "  warnings.warn(label_encoder_deprecation_msg, UserWarning)\n"
     ]
    },
    {
     "name": "stdout",
     "output_type": "stream",
     "text": [
      "[09:49:40] WARNING: ../src/learner.cc:1095: Starting in XGBoost 1.3.0, the default evaluation metric used with the objective 'binary:logistic' was changed from 'error' to 'logloss'. Explicitly set eval_metric if you'd like to restore the old behavior.\n"
     ]
    }
   ],
   "source": [
    "xgb = XGBClassifier().fit(X_train,y_train)\n",
    "\n",
    "y_pred = xgb.predict(X_test)"
   ]
  },
  {
   "cell_type": "code",
   "execution_count": 32,
   "id": "2da6ce1f",
   "metadata": {
    "execution": {
     "iopub.execute_input": "2021-08-15T09:49:42.320290Z",
     "iopub.status.busy": "2021-08-15T09:49:42.319323Z",
     "iopub.status.idle": "2021-08-15T09:49:42.326057Z",
     "shell.execute_reply": "2021-08-15T09:49:42.326584Z",
     "shell.execute_reply.started": "2021-08-15T09:14:31.654002Z"
    },
    "papermill": {
     "duration": 0.058279,
     "end_time": "2021-08-15T09:49:42.326756",
     "exception": false,
     "start_time": "2021-08-15T09:49:42.268477",
     "status": "completed"
    },
    "tags": []
   },
   "outputs": [
    {
     "name": "stdout",
     "output_type": "stream",
     "text": [
      "Accuracy Score: 0.7\n"
     ]
    }
   ],
   "source": [
    "algorithms[\"XGBoost\"] = accuracy_score(y_test,y_pred)\n",
    "\n",
    "print(\"Accuracy Score:\", accuracy_score(y_test,y_pred))"
   ]
  },
  {
   "cell_type": "code",
   "execution_count": 33,
   "id": "1d44b0cd",
   "metadata": {
    "execution": {
     "iopub.execute_input": "2021-08-15T09:49:42.434712Z",
     "iopub.status.busy": "2021-08-15T09:49:42.434003Z",
     "iopub.status.idle": "2021-08-15T09:49:42.444152Z",
     "shell.execute_reply": "2021-08-15T09:49:42.443616Z",
     "shell.execute_reply.started": "2021-08-15T09:14:31.664329Z"
    },
    "papermill": {
     "duration": 0.068799,
     "end_time": "2021-08-15T09:49:42.444302",
     "exception": false,
     "start_time": "2021-08-15T09:49:42.375503",
     "status": "completed"
    },
    "tags": []
   },
   "outputs": [
    {
     "name": "stdout",
     "output_type": "stream",
     "text": [
      "              precision    recall  f1-score   support\n",
      "\n",
      "           0       0.65      0.82      0.73        97\n",
      "           1       0.78      0.58      0.67       103\n",
      "\n",
      "    accuracy                           0.70       200\n",
      "   macro avg       0.71      0.70      0.70       200\n",
      "weighted avg       0.72      0.70      0.70       200\n",
      "\n"
     ]
    }
   ],
   "source": [
    "print(classification_report(y_test,y_pred))"
   ]
  },
  {
   "cell_type": "markdown",
   "id": "c383632e",
   "metadata": {
    "papermill": {
     "duration": 0.048931,
     "end_time": "2021-08-15T09:49:42.549391",
     "exception": false,
     "start_time": "2021-08-15T09:49:42.500460",
     "status": "completed"
    },
    "tags": []
   },
   "source": [
    "<h3 style=\"background-color:#4A6FA5;font-family:newtimeroman;font-size:150%;text-align:left;border-radius: 5px 5px;color:#dbe9ee\">CatBoost</h3><a id=\"14\"></a>"
   ]
  },
  {
   "cell_type": "code",
   "execution_count": 34,
   "id": "fc34f0a3",
   "metadata": {
    "_kg_hide-output": true,
    "execution": {
     "iopub.execute_input": "2021-08-15T09:49:42.659537Z",
     "iopub.status.busy": "2021-08-15T09:49:42.658626Z",
     "iopub.status.idle": "2021-08-15T09:49:47.596957Z",
     "shell.execute_reply": "2021-08-15T09:49:47.597572Z",
     "shell.execute_reply.started": "2021-08-15T09:14:31.681106Z"
    },
    "papermill": {
     "duration": 5.000484,
     "end_time": "2021-08-15T09:49:47.597778",
     "exception": false,
     "start_time": "2021-08-15T09:49:42.597294",
     "status": "completed"
    },
    "tags": []
   },
   "outputs": [
    {
     "name": "stdout",
     "output_type": "stream",
     "text": [
      "Learning rate set to 0.009366\n",
      "0:\tlearn: 0.6915065\ttotal: 62.4ms\tremaining: 1m 2s\n",
      "1:\tlearn: 0.6897495\ttotal: 67.8ms\tremaining: 33.8s\n",
      "2:\tlearn: 0.6881722\ttotal: 71.6ms\tremaining: 23.8s\n",
      "3:\tlearn: 0.6863600\ttotal: 75ms\tremaining: 18.7s\n",
      "4:\tlearn: 0.6851619\ttotal: 78.7ms\tremaining: 15.7s\n",
      "5:\tlearn: 0.6835759\ttotal: 82.4ms\tremaining: 13.7s\n",
      "6:\tlearn: 0.6816692\ttotal: 86.2ms\tremaining: 12.2s\n",
      "7:\tlearn: 0.6799870\ttotal: 90.4ms\tremaining: 11.2s\n",
      "8:\tlearn: 0.6784495\ttotal: 94.6ms\tremaining: 10.4s\n",
      "9:\tlearn: 0.6762375\ttotal: 98.6ms\tremaining: 9.76s\n",
      "10:\tlearn: 0.6748916\ttotal: 103ms\tremaining: 9.23s\n",
      "11:\tlearn: 0.6732266\ttotal: 106ms\tremaining: 8.76s\n",
      "12:\tlearn: 0.6712406\ttotal: 110ms\tremaining: 8.37s\n",
      "13:\tlearn: 0.6698501\ttotal: 114ms\tremaining: 8.03s\n",
      "14:\tlearn: 0.6685275\ttotal: 118ms\tremaining: 7.76s\n",
      "15:\tlearn: 0.6667387\ttotal: 122ms\tremaining: 7.5s\n",
      "16:\tlearn: 0.6653045\ttotal: 126ms\tremaining: 7.29s\n",
      "17:\tlearn: 0.6644790\ttotal: 130ms\tremaining: 7.08s\n",
      "18:\tlearn: 0.6630956\ttotal: 134ms\tremaining: 6.91s\n",
      "19:\tlearn: 0.6616570\ttotal: 138ms\tremaining: 6.75s\n",
      "20:\tlearn: 0.6604121\ttotal: 142ms\tremaining: 6.61s\n",
      "21:\tlearn: 0.6600534\ttotal: 146ms\tremaining: 6.47s\n",
      "22:\tlearn: 0.6589559\ttotal: 150ms\tremaining: 6.37s\n",
      "23:\tlearn: 0.6577109\ttotal: 154ms\tremaining: 6.27s\n",
      "24:\tlearn: 0.6563055\ttotal: 158ms\tremaining: 6.18s\n",
      "25:\tlearn: 0.6551541\ttotal: 163ms\tremaining: 6.1s\n",
      "26:\tlearn: 0.6539368\ttotal: 167ms\tremaining: 6.02s\n",
      "27:\tlearn: 0.6528151\ttotal: 173ms\tremaining: 5.99s\n",
      "28:\tlearn: 0.6515966\ttotal: 177ms\tremaining: 5.92s\n",
      "29:\tlearn: 0.6509866\ttotal: 181ms\tremaining: 5.84s\n",
      "30:\tlearn: 0.6497795\ttotal: 185ms\tremaining: 5.77s\n",
      "31:\tlearn: 0.6483997\ttotal: 192ms\tremaining: 5.8s\n",
      "32:\tlearn: 0.6476159\ttotal: 198ms\tremaining: 5.8s\n",
      "33:\tlearn: 0.6464002\ttotal: 202ms\tremaining: 5.74s\n",
      "34:\tlearn: 0.6448928\ttotal: 207ms\tremaining: 5.7s\n",
      "35:\tlearn: 0.6445260\ttotal: 211ms\tremaining: 5.65s\n",
      "36:\tlearn: 0.6436359\ttotal: 217ms\tremaining: 5.65s\n",
      "37:\tlearn: 0.6425555\ttotal: 221ms\tremaining: 5.59s\n",
      "38:\tlearn: 0.6417626\ttotal: 224ms\tremaining: 5.52s\n",
      "39:\tlearn: 0.6411094\ttotal: 229ms\tremaining: 5.49s\n",
      "40:\tlearn: 0.6406070\ttotal: 234ms\tremaining: 5.48s\n",
      "41:\tlearn: 0.6393876\ttotal: 238ms\tremaining: 5.43s\n",
      "42:\tlearn: 0.6386238\ttotal: 242ms\tremaining: 5.39s\n",
      "43:\tlearn: 0.6381297\ttotal: 246ms\tremaining: 5.35s\n",
      "44:\tlearn: 0.6376657\ttotal: 252ms\tremaining: 5.35s\n",
      "45:\tlearn: 0.6362974\ttotal: 258ms\tremaining: 5.34s\n",
      "46:\tlearn: 0.6354992\ttotal: 262ms\tremaining: 5.31s\n",
      "47:\tlearn: 0.6350912\ttotal: 266ms\tremaining: 5.27s\n",
      "48:\tlearn: 0.6344396\ttotal: 271ms\tremaining: 5.25s\n",
      "49:\tlearn: 0.6337123\ttotal: 275ms\tremaining: 5.22s\n",
      "50:\tlearn: 0.6331041\ttotal: 279ms\tremaining: 5.19s\n",
      "51:\tlearn: 0.6322952\ttotal: 283ms\tremaining: 5.16s\n",
      "52:\tlearn: 0.6314078\ttotal: 287ms\tremaining: 5.13s\n",
      "53:\tlearn: 0.6305857\ttotal: 291ms\tremaining: 5.1s\n",
      "54:\tlearn: 0.6301468\ttotal: 295ms\tremaining: 5.08s\n",
      "55:\tlearn: 0.6299709\ttotal: 299ms\tremaining: 5.05s\n",
      "56:\tlearn: 0.6293296\ttotal: 304ms\tremaining: 5.02s\n",
      "57:\tlearn: 0.6288335\ttotal: 308ms\tremaining: 5s\n",
      "58:\tlearn: 0.6281458\ttotal: 312ms\tremaining: 4.98s\n",
      "59:\tlearn: 0.6273205\ttotal: 317ms\tremaining: 4.96s\n",
      "60:\tlearn: 0.6267159\ttotal: 321ms\tremaining: 4.94s\n",
      "61:\tlearn: 0.6260695\ttotal: 325ms\tremaining: 4.91s\n",
      "62:\tlearn: 0.6251288\ttotal: 329ms\tremaining: 4.89s\n",
      "63:\tlearn: 0.6245545\ttotal: 333ms\tremaining: 4.87s\n",
      "64:\tlearn: 0.6241793\ttotal: 337ms\tremaining: 4.85s\n",
      "65:\tlearn: 0.6237879\ttotal: 341ms\tremaining: 4.82s\n",
      "66:\tlearn: 0.6234332\ttotal: 346ms\tremaining: 4.81s\n",
      "67:\tlearn: 0.6230406\ttotal: 352ms\tremaining: 4.82s\n",
      "68:\tlearn: 0.6225433\ttotal: 356ms\tremaining: 4.8s\n",
      "69:\tlearn: 0.6218999\ttotal: 360ms\tremaining: 4.79s\n",
      "70:\tlearn: 0.6208154\ttotal: 364ms\tremaining: 4.76s\n",
      "71:\tlearn: 0.6195469\ttotal: 369ms\tremaining: 4.75s\n",
      "72:\tlearn: 0.6190342\ttotal: 373ms\tremaining: 4.74s\n",
      "73:\tlearn: 0.6185816\ttotal: 378ms\tremaining: 4.73s\n",
      "74:\tlearn: 0.6180366\ttotal: 382ms\tremaining: 4.71s\n",
      "75:\tlearn: 0.6174952\ttotal: 388ms\tremaining: 4.71s\n",
      "76:\tlearn: 0.6168434\ttotal: 392ms\tremaining: 4.69s\n",
      "77:\tlearn: 0.6156768\ttotal: 395ms\tremaining: 4.67s\n",
      "78:\tlearn: 0.6148631\ttotal: 399ms\tremaining: 4.65s\n",
      "79:\tlearn: 0.6143031\ttotal: 403ms\tremaining: 4.63s\n",
      "80:\tlearn: 0.6137768\ttotal: 407ms\tremaining: 4.62s\n",
      "81:\tlearn: 0.6129522\ttotal: 411ms\tremaining: 4.6s\n",
      "82:\tlearn: 0.6120024\ttotal: 415ms\tremaining: 4.58s\n",
      "83:\tlearn: 0.6114321\ttotal: 419ms\tremaining: 4.57s\n",
      "84:\tlearn: 0.6109776\ttotal: 423ms\tremaining: 4.55s\n",
      "85:\tlearn: 0.6101198\ttotal: 427ms\tremaining: 4.54s\n",
      "86:\tlearn: 0.6095549\ttotal: 431ms\tremaining: 4.53s\n",
      "87:\tlearn: 0.6088710\ttotal: 435ms\tremaining: 4.51s\n",
      "88:\tlearn: 0.6082825\ttotal: 440ms\tremaining: 4.5s\n",
      "89:\tlearn: 0.6077900\ttotal: 444ms\tremaining: 4.49s\n",
      "90:\tlearn: 0.6074296\ttotal: 448ms\tremaining: 4.47s\n",
      "91:\tlearn: 0.6067122\ttotal: 452ms\tremaining: 4.46s\n",
      "92:\tlearn: 0.6065362\ttotal: 456ms\tremaining: 4.44s\n",
      "93:\tlearn: 0.6059154\ttotal: 460ms\tremaining: 4.43s\n",
      "94:\tlearn: 0.6054503\ttotal: 464ms\tremaining: 4.42s\n",
      "95:\tlearn: 0.6045537\ttotal: 468ms\tremaining: 4.4s\n",
      "96:\tlearn: 0.6040417\ttotal: 472ms\tremaining: 4.39s\n",
      "97:\tlearn: 0.6036104\ttotal: 476ms\tremaining: 4.38s\n",
      "98:\tlearn: 0.6031346\ttotal: 480ms\tremaining: 4.37s\n",
      "99:\tlearn: 0.6026260\ttotal: 484ms\tremaining: 4.36s\n",
      "100:\tlearn: 0.6020842\ttotal: 488ms\tremaining: 4.34s\n",
      "101:\tlearn: 0.6017453\ttotal: 492ms\tremaining: 4.33s\n",
      "102:\tlearn: 0.6010932\ttotal: 495ms\tremaining: 4.31s\n",
      "103:\tlearn: 0.6006077\ttotal: 499ms\tremaining: 4.3s\n",
      "104:\tlearn: 0.6002080\ttotal: 503ms\tremaining: 4.29s\n",
      "105:\tlearn: 0.5997299\ttotal: 507ms\tremaining: 4.28s\n",
      "106:\tlearn: 0.5992852\ttotal: 511ms\tremaining: 4.26s\n",
      "107:\tlearn: 0.5989730\ttotal: 515ms\tremaining: 4.25s\n",
      "108:\tlearn: 0.5987120\ttotal: 519ms\tremaining: 4.24s\n",
      "109:\tlearn: 0.5983236\ttotal: 522ms\tremaining: 4.23s\n",
      "110:\tlearn: 0.5977470\ttotal: 526ms\tremaining: 4.21s\n",
      "111:\tlearn: 0.5974501\ttotal: 530ms\tremaining: 4.2s\n",
      "112:\tlearn: 0.5970815\ttotal: 534ms\tremaining: 4.19s\n",
      "113:\tlearn: 0.5965310\ttotal: 538ms\tremaining: 4.18s\n",
      "114:\tlearn: 0.5960295\ttotal: 542ms\tremaining: 4.17s\n",
      "115:\tlearn: 0.5956681\ttotal: 545ms\tremaining: 4.15s\n",
      "116:\tlearn: 0.5954069\ttotal: 548ms\tremaining: 4.14s\n",
      "117:\tlearn: 0.5949349\ttotal: 552ms\tremaining: 4.12s\n",
      "118:\tlearn: 0.5944590\ttotal: 555ms\tremaining: 4.11s\n",
      "119:\tlearn: 0.5943337\ttotal: 559ms\tremaining: 4.1s\n",
      "120:\tlearn: 0.5940443\ttotal: 563ms\tremaining: 4.09s\n",
      "121:\tlearn: 0.5938484\ttotal: 566ms\tremaining: 4.08s\n",
      "122:\tlearn: 0.5933274\ttotal: 570ms\tremaining: 4.07s\n",
      "123:\tlearn: 0.5929060\ttotal: 575ms\tremaining: 4.06s\n",
      "124:\tlearn: 0.5924127\ttotal: 579ms\tremaining: 4.05s\n",
      "125:\tlearn: 0.5918405\ttotal: 584ms\tremaining: 4.05s\n",
      "126:\tlearn: 0.5915054\ttotal: 587ms\tremaining: 4.04s\n",
      "127:\tlearn: 0.5909103\ttotal: 591ms\tremaining: 4.02s\n",
      "128:\tlearn: 0.5902260\ttotal: 594ms\tremaining: 4.01s\n",
      "129:\tlearn: 0.5898288\ttotal: 598ms\tremaining: 4s\n",
      "130:\tlearn: 0.5894179\ttotal: 602ms\tremaining: 3.99s\n",
      "131:\tlearn: 0.5890419\ttotal: 606ms\tremaining: 3.98s\n",
      "132:\tlearn: 0.5886824\ttotal: 610ms\tremaining: 3.97s\n",
      "133:\tlearn: 0.5882757\ttotal: 613ms\tremaining: 3.96s\n",
      "134:\tlearn: 0.5880317\ttotal: 618ms\tremaining: 3.96s\n",
      "135:\tlearn: 0.5874964\ttotal: 622ms\tremaining: 3.95s\n",
      "136:\tlearn: 0.5871649\ttotal: 626ms\tremaining: 3.94s\n",
      "137:\tlearn: 0.5866032\ttotal: 630ms\tremaining: 3.93s\n",
      "138:\tlearn: 0.5861363\ttotal: 634ms\tremaining: 3.93s\n",
      "139:\tlearn: 0.5852605\ttotal: 639ms\tremaining: 3.93s\n",
      "140:\tlearn: 0.5848962\ttotal: 643ms\tremaining: 3.92s\n",
      "141:\tlearn: 0.5845113\ttotal: 647ms\tremaining: 3.91s\n",
      "142:\tlearn: 0.5842198\ttotal: 650ms\tremaining: 3.9s\n",
      "143:\tlearn: 0.5837713\ttotal: 654ms\tremaining: 3.89s\n",
      "144:\tlearn: 0.5829014\ttotal: 658ms\tremaining: 3.88s\n",
      "145:\tlearn: 0.5826173\ttotal: 662ms\tremaining: 3.87s\n",
      "146:\tlearn: 0.5822455\ttotal: 666ms\tremaining: 3.86s\n",
      "147:\tlearn: 0.5819993\ttotal: 670ms\tremaining: 3.85s\n",
      "148:\tlearn: 0.5816030\ttotal: 673ms\tremaining: 3.85s\n",
      "149:\tlearn: 0.5813334\ttotal: 677ms\tremaining: 3.84s\n",
      "150:\tlearn: 0.5807384\ttotal: 681ms\tremaining: 3.83s\n",
      "151:\tlearn: 0.5803380\ttotal: 685ms\tremaining: 3.82s\n",
      "152:\tlearn: 0.5796554\ttotal: 689ms\tremaining: 3.81s\n",
      "153:\tlearn: 0.5789333\ttotal: 693ms\tremaining: 3.81s\n",
      "154:\tlearn: 0.5783138\ttotal: 697ms\tremaining: 3.8s\n",
      "155:\tlearn: 0.5777644\ttotal: 700ms\tremaining: 3.79s\n",
      "156:\tlearn: 0.5774039\ttotal: 703ms\tremaining: 3.78s\n",
      "157:\tlearn: 0.5770319\ttotal: 707ms\tremaining: 3.77s\n",
      "158:\tlearn: 0.5766863\ttotal: 710ms\tremaining: 3.75s\n",
      "159:\tlearn: 0.5762503\ttotal: 714ms\tremaining: 3.75s\n",
      "160:\tlearn: 0.5758301\ttotal: 718ms\tremaining: 3.74s\n",
      "161:\tlearn: 0.5755159\ttotal: 722ms\tremaining: 3.73s\n",
      "162:\tlearn: 0.5752759\ttotal: 726ms\tremaining: 3.73s\n",
      "163:\tlearn: 0.5746898\ttotal: 730ms\tremaining: 3.72s\n",
      "164:\tlearn: 0.5742085\ttotal: 734ms\tremaining: 3.71s\n",
      "165:\tlearn: 0.5739119\ttotal: 738ms\tremaining: 3.71s\n",
      "166:\tlearn: 0.5734464\ttotal: 742ms\tremaining: 3.7s\n",
      "167:\tlearn: 0.5731418\ttotal: 745ms\tremaining: 3.69s\n",
      "168:\tlearn: 0.5729451\ttotal: 749ms\tremaining: 3.68s\n",
      "169:\tlearn: 0.5724560\ttotal: 753ms\tremaining: 3.67s\n",
      "170:\tlearn: 0.5720990\ttotal: 757ms\tremaining: 3.67s\n",
      "171:\tlearn: 0.5716947\ttotal: 761ms\tremaining: 3.66s\n",
      "172:\tlearn: 0.5715935\ttotal: 765ms\tremaining: 3.66s\n",
      "173:\tlearn: 0.5712902\ttotal: 769ms\tremaining: 3.65s\n",
      "174:\tlearn: 0.5710937\ttotal: 774ms\tremaining: 3.65s\n",
      "175:\tlearn: 0.5708072\ttotal: 780ms\tremaining: 3.65s\n",
      "176:\tlearn: 0.5703558\ttotal: 784ms\tremaining: 3.65s\n",
      "177:\tlearn: 0.5701123\ttotal: 788ms\tremaining: 3.64s\n",
      "178:\tlearn: 0.5699137\ttotal: 791ms\tremaining: 3.63s\n",
      "179:\tlearn: 0.5695520\ttotal: 795ms\tremaining: 3.62s\n",
      "180:\tlearn: 0.5693007\ttotal: 799ms\tremaining: 3.62s\n",
      "181:\tlearn: 0.5689907\ttotal: 803ms\tremaining: 3.61s\n",
      "182:\tlearn: 0.5686754\ttotal: 808ms\tremaining: 3.6s\n",
      "183:\tlearn: 0.5683591\ttotal: 813ms\tremaining: 3.6s\n",
      "184:\tlearn: 0.5678427\ttotal: 817ms\tremaining: 3.6s\n",
      "185:\tlearn: 0.5674223\ttotal: 822ms\tremaining: 3.6s\n",
      "186:\tlearn: 0.5670976\ttotal: 826ms\tremaining: 3.59s\n",
      "187:\tlearn: 0.5666905\ttotal: 830ms\tremaining: 3.58s\n",
      "188:\tlearn: 0.5665108\ttotal: 834ms\tremaining: 3.58s\n",
      "189:\tlearn: 0.5662263\ttotal: 838ms\tremaining: 3.57s\n",
      "190:\tlearn: 0.5660307\ttotal: 842ms\tremaining: 3.57s\n",
      "191:\tlearn: 0.5658776\ttotal: 846ms\tremaining: 3.56s\n",
      "192:\tlearn: 0.5655863\ttotal: 850ms\tremaining: 3.56s\n",
      "193:\tlearn: 0.5654377\ttotal: 854ms\tremaining: 3.55s\n",
      "194:\tlearn: 0.5653148\ttotal: 858ms\tremaining: 3.54s\n",
      "195:\tlearn: 0.5649568\ttotal: 862ms\tremaining: 3.54s\n",
      "196:\tlearn: 0.5647704\ttotal: 866ms\tremaining: 3.53s\n",
      "197:\tlearn: 0.5643063\ttotal: 870ms\tremaining: 3.52s\n",
      "198:\tlearn: 0.5640715\ttotal: 873ms\tremaining: 3.51s\n",
      "199:\tlearn: 0.5638610\ttotal: 876ms\tremaining: 3.5s\n",
      "200:\tlearn: 0.5634533\ttotal: 880ms\tremaining: 3.5s\n",
      "201:\tlearn: 0.5631321\ttotal: 884ms\tremaining: 3.49s\n",
      "202:\tlearn: 0.5628835\ttotal: 888ms\tremaining: 3.48s\n",
      "203:\tlearn: 0.5627386\ttotal: 891ms\tremaining: 3.48s\n",
      "204:\tlearn: 0.5624747\ttotal: 895ms\tremaining: 3.47s\n",
      "205:\tlearn: 0.5621763\ttotal: 899ms\tremaining: 3.46s\n",
      "206:\tlearn: 0.5616783\ttotal: 903ms\tremaining: 3.46s\n",
      "207:\tlearn: 0.5613547\ttotal: 907ms\tremaining: 3.45s\n",
      "208:\tlearn: 0.5611583\ttotal: 911ms\tremaining: 3.45s\n",
      "209:\tlearn: 0.5606970\ttotal: 915ms\tremaining: 3.44s\n",
      "210:\tlearn: 0.5604800\ttotal: 918ms\tremaining: 3.43s\n",
      "211:\tlearn: 0.5599371\ttotal: 922ms\tremaining: 3.43s\n",
      "212:\tlearn: 0.5597377\ttotal: 926ms\tremaining: 3.42s\n",
      "213:\tlearn: 0.5595102\ttotal: 930ms\tremaining: 3.42s\n",
      "214:\tlearn: 0.5592236\ttotal: 933ms\tremaining: 3.41s\n",
      "215:\tlearn: 0.5590464\ttotal: 937ms\tremaining: 3.4s\n",
      "216:\tlearn: 0.5588153\ttotal: 940ms\tremaining: 3.39s\n",
      "217:\tlearn: 0.5585532\ttotal: 944ms\tremaining: 3.38s\n",
      "218:\tlearn: 0.5582298\ttotal: 948ms\tremaining: 3.38s\n",
      "219:\tlearn: 0.5577855\ttotal: 952ms\tremaining: 3.37s\n",
      "220:\tlearn: 0.5575232\ttotal: 955ms\tremaining: 3.37s\n",
      "221:\tlearn: 0.5572704\ttotal: 959ms\tremaining: 3.36s\n",
      "222:\tlearn: 0.5569644\ttotal: 963ms\tremaining: 3.35s\n",
      "223:\tlearn: 0.5565094\ttotal: 967ms\tremaining: 3.35s\n",
      "224:\tlearn: 0.5562055\ttotal: 971ms\tremaining: 3.34s\n",
      "225:\tlearn: 0.5559221\ttotal: 977ms\tremaining: 3.35s\n",
      "226:\tlearn: 0.5555903\ttotal: 981ms\tremaining: 3.34s\n",
      "227:\tlearn: 0.5552182\ttotal: 985ms\tremaining: 3.33s\n",
      "228:\tlearn: 0.5550283\ttotal: 988ms\tremaining: 3.33s\n",
      "229:\tlearn: 0.5547015\ttotal: 992ms\tremaining: 3.32s\n",
      "230:\tlearn: 0.5545057\ttotal: 995ms\tremaining: 3.31s\n",
      "231:\tlearn: 0.5541760\ttotal: 999ms\tremaining: 3.31s\n",
      "232:\tlearn: 0.5539418\ttotal: 1s\tremaining: 3.3s\n",
      "233:\tlearn: 0.5537537\ttotal: 1s\tremaining: 3.29s\n",
      "234:\tlearn: 0.5533731\ttotal: 1.01s\tremaining: 3.29s\n",
      "235:\tlearn: 0.5530704\ttotal: 1.01s\tremaining: 3.28s\n",
      "236:\tlearn: 0.5528875\ttotal: 1.02s\tremaining: 3.27s\n",
      "237:\tlearn: 0.5525035\ttotal: 1.02s\tremaining: 3.27s\n",
      "238:\tlearn: 0.5521781\ttotal: 1.02s\tremaining: 3.26s\n",
      "239:\tlearn: 0.5519013\ttotal: 1.03s\tremaining: 3.26s\n",
      "240:\tlearn: 0.5517437\ttotal: 1.03s\tremaining: 3.25s\n",
      "241:\tlearn: 0.5514917\ttotal: 1.04s\tremaining: 3.25s\n",
      "242:\tlearn: 0.5513576\ttotal: 1.04s\tremaining: 3.24s\n",
      "243:\tlearn: 0.5511417\ttotal: 1.04s\tremaining: 3.24s\n",
      "244:\tlearn: 0.5509630\ttotal: 1.05s\tremaining: 3.23s\n",
      "245:\tlearn: 0.5508526\ttotal: 1.05s\tremaining: 3.23s\n",
      "246:\tlearn: 0.5504159\ttotal: 1.06s\tremaining: 3.22s\n",
      "247:\tlearn: 0.5500492\ttotal: 1.06s\tremaining: 3.21s\n",
      "248:\tlearn: 0.5497916\ttotal: 1.06s\tremaining: 3.21s\n",
      "249:\tlearn: 0.5495258\ttotal: 1.07s\tremaining: 3.2s\n",
      "250:\tlearn: 0.5492745\ttotal: 1.07s\tremaining: 3.2s\n",
      "251:\tlearn: 0.5490395\ttotal: 1.07s\tremaining: 3.19s\n",
      "252:\tlearn: 0.5489262\ttotal: 1.08s\tremaining: 3.19s\n",
      "253:\tlearn: 0.5487429\ttotal: 1.08s\tremaining: 3.18s\n",
      "254:\tlearn: 0.5484180\ttotal: 1.09s\tremaining: 3.17s\n",
      "255:\tlearn: 0.5482000\ttotal: 1.09s\tremaining: 3.17s\n",
      "256:\tlearn: 0.5479636\ttotal: 1.09s\tremaining: 3.16s\n",
      "257:\tlearn: 0.5475860\ttotal: 1.1s\tremaining: 3.15s\n",
      "258:\tlearn: 0.5474273\ttotal: 1.1s\tremaining: 3.15s\n",
      "259:\tlearn: 0.5471652\ttotal: 1.1s\tremaining: 3.14s\n",
      "260:\tlearn: 0.5469896\ttotal: 1.11s\tremaining: 3.14s\n",
      "261:\tlearn: 0.5468355\ttotal: 1.11s\tremaining: 3.13s\n",
      "262:\tlearn: 0.5467605\ttotal: 1.11s\tremaining: 3.13s\n",
      "263:\tlearn: 0.5465882\ttotal: 1.12s\tremaining: 3.12s\n",
      "264:\tlearn: 0.5462121\ttotal: 1.12s\tremaining: 3.12s\n",
      "265:\tlearn: 0.5460678\ttotal: 1.13s\tremaining: 3.11s\n",
      "266:\tlearn: 0.5457673\ttotal: 1.13s\tremaining: 3.1s\n",
      "267:\tlearn: 0.5455438\ttotal: 1.13s\tremaining: 3.1s\n",
      "268:\tlearn: 0.5453879\ttotal: 1.14s\tremaining: 3.09s\n",
      "269:\tlearn: 0.5449960\ttotal: 1.14s\tremaining: 3.09s\n",
      "270:\tlearn: 0.5446456\ttotal: 1.15s\tremaining: 3.08s\n",
      "271:\tlearn: 0.5444294\ttotal: 1.15s\tremaining: 3.08s\n",
      "272:\tlearn: 0.5442910\ttotal: 1.15s\tremaining: 3.07s\n",
      "273:\tlearn: 0.5440759\ttotal: 1.16s\tremaining: 3.07s\n",
      "274:\tlearn: 0.5439317\ttotal: 1.16s\tremaining: 3.06s\n",
      "275:\tlearn: 0.5435167\ttotal: 1.17s\tremaining: 3.06s\n",
      "276:\tlearn: 0.5431870\ttotal: 1.17s\tremaining: 3.05s\n",
      "277:\tlearn: 0.5429613\ttotal: 1.17s\tremaining: 3.05s\n",
      "278:\tlearn: 0.5427673\ttotal: 1.18s\tremaining: 3.05s\n",
      "279:\tlearn: 0.5425143\ttotal: 1.18s\tremaining: 3.04s\n",
      "280:\tlearn: 0.5421196\ttotal: 1.19s\tremaining: 3.04s\n",
      "281:\tlearn: 0.5420000\ttotal: 1.19s\tremaining: 3.03s\n",
      "282:\tlearn: 0.5415792\ttotal: 1.19s\tremaining: 3.03s\n",
      "283:\tlearn: 0.5413743\ttotal: 1.2s\tremaining: 3.02s\n",
      "284:\tlearn: 0.5411431\ttotal: 1.2s\tremaining: 3.02s\n",
      "285:\tlearn: 0.5409189\ttotal: 1.21s\tremaining: 3.01s\n",
      "286:\tlearn: 0.5408374\ttotal: 1.21s\tremaining: 3.01s\n",
      "287:\tlearn: 0.5405765\ttotal: 1.21s\tremaining: 3s\n",
      "288:\tlearn: 0.5403338\ttotal: 1.22s\tremaining: 3s\n",
      "289:\tlearn: 0.5401426\ttotal: 1.22s\tremaining: 2.99s\n",
      "290:\tlearn: 0.5400955\ttotal: 1.23s\tremaining: 2.99s\n",
      "291:\tlearn: 0.5399859\ttotal: 1.23s\tremaining: 2.99s\n",
      "292:\tlearn: 0.5398415\ttotal: 1.24s\tremaining: 2.99s\n",
      "293:\tlearn: 0.5397495\ttotal: 1.24s\tremaining: 2.98s\n",
      "294:\tlearn: 0.5396331\ttotal: 1.25s\tremaining: 2.98s\n",
      "295:\tlearn: 0.5393443\ttotal: 1.25s\tremaining: 2.98s\n",
      "296:\tlearn: 0.5388933\ttotal: 1.26s\tremaining: 2.97s\n",
      "297:\tlearn: 0.5387089\ttotal: 1.26s\tremaining: 2.97s\n",
      "298:\tlearn: 0.5386462\ttotal: 1.26s\tremaining: 2.96s\n",
      "299:\tlearn: 0.5383190\ttotal: 1.27s\tremaining: 2.96s\n",
      "300:\tlearn: 0.5381717\ttotal: 1.27s\tremaining: 2.95s\n",
      "301:\tlearn: 0.5380195\ttotal: 1.27s\tremaining: 2.94s\n",
      "302:\tlearn: 0.5377823\ttotal: 1.28s\tremaining: 2.94s\n",
      "303:\tlearn: 0.5375506\ttotal: 1.28s\tremaining: 2.94s\n",
      "304:\tlearn: 0.5373359\ttotal: 1.29s\tremaining: 2.93s\n",
      "305:\tlearn: 0.5372456\ttotal: 1.29s\tremaining: 2.93s\n",
      "306:\tlearn: 0.5370261\ttotal: 1.29s\tremaining: 2.92s\n",
      "307:\tlearn: 0.5368562\ttotal: 1.3s\tremaining: 2.92s\n",
      "308:\tlearn: 0.5366187\ttotal: 1.3s\tremaining: 2.92s\n",
      "309:\tlearn: 0.5363954\ttotal: 1.31s\tremaining: 2.91s\n",
      "310:\tlearn: 0.5359852\ttotal: 1.31s\tremaining: 2.91s\n",
      "311:\tlearn: 0.5356228\ttotal: 1.32s\tremaining: 2.9s\n",
      "312:\tlearn: 0.5353641\ttotal: 1.32s\tremaining: 2.9s\n",
      "313:\tlearn: 0.5351373\ttotal: 1.32s\tremaining: 2.89s\n",
      "314:\tlearn: 0.5349109\ttotal: 1.33s\tremaining: 2.89s\n",
      "315:\tlearn: 0.5345856\ttotal: 1.33s\tremaining: 2.88s\n",
      "316:\tlearn: 0.5343681\ttotal: 1.33s\tremaining: 2.88s\n",
      "317:\tlearn: 0.5338529\ttotal: 1.34s\tremaining: 2.88s\n",
      "318:\tlearn: 0.5336080\ttotal: 1.35s\tremaining: 2.87s\n",
      "319:\tlearn: 0.5334222\ttotal: 1.35s\tremaining: 2.87s\n",
      "320:\tlearn: 0.5331775\ttotal: 1.35s\tremaining: 2.86s\n",
      "321:\tlearn: 0.5330232\ttotal: 1.36s\tremaining: 2.86s\n",
      "322:\tlearn: 0.5327826\ttotal: 1.36s\tremaining: 2.85s\n",
      "323:\tlearn: 0.5325626\ttotal: 1.37s\tremaining: 2.85s\n",
      "324:\tlearn: 0.5324309\ttotal: 1.37s\tremaining: 2.85s\n",
      "325:\tlearn: 0.5321461\ttotal: 1.38s\tremaining: 2.84s\n",
      "326:\tlearn: 0.5319992\ttotal: 1.38s\tremaining: 2.84s\n",
      "327:\tlearn: 0.5318306\ttotal: 1.38s\tremaining: 2.83s\n",
      "328:\tlearn: 0.5316343\ttotal: 1.39s\tremaining: 2.83s\n",
      "329:\tlearn: 0.5313038\ttotal: 1.39s\tremaining: 2.83s\n",
      "330:\tlearn: 0.5311689\ttotal: 1.4s\tremaining: 2.82s\n",
      "331:\tlearn: 0.5308883\ttotal: 1.4s\tremaining: 2.82s\n",
      "332:\tlearn: 0.5306544\ttotal: 1.4s\tremaining: 2.81s\n",
      "333:\tlearn: 0.5303652\ttotal: 1.41s\tremaining: 2.81s\n",
      "334:\tlearn: 0.5302026\ttotal: 1.41s\tremaining: 2.8s\n",
      "335:\tlearn: 0.5297920\ttotal: 1.42s\tremaining: 2.8s\n",
      "336:\tlearn: 0.5294828\ttotal: 1.42s\tremaining: 2.79s\n",
      "337:\tlearn: 0.5292945\ttotal: 1.42s\tremaining: 2.79s\n",
      "338:\tlearn: 0.5291187\ttotal: 1.43s\tremaining: 2.79s\n",
      "339:\tlearn: 0.5288412\ttotal: 1.43s\tremaining: 2.78s\n",
      "340:\tlearn: 0.5287175\ttotal: 1.44s\tremaining: 2.78s\n",
      "341:\tlearn: 0.5284634\ttotal: 1.44s\tremaining: 2.77s\n",
      "342:\tlearn: 0.5281925\ttotal: 1.45s\tremaining: 2.77s\n",
      "343:\tlearn: 0.5281148\ttotal: 1.45s\tremaining: 2.76s\n",
      "344:\tlearn: 0.5279995\ttotal: 1.45s\tremaining: 2.76s\n",
      "345:\tlearn: 0.5277724\ttotal: 1.46s\tremaining: 2.75s\n",
      "346:\tlearn: 0.5273869\ttotal: 1.46s\tremaining: 2.75s\n",
      "347:\tlearn: 0.5272536\ttotal: 1.47s\tremaining: 2.75s\n",
      "348:\tlearn: 0.5270445\ttotal: 1.47s\tremaining: 2.74s\n",
      "349:\tlearn: 0.5269225\ttotal: 1.48s\tremaining: 2.74s\n",
      "350:\tlearn: 0.5266631\ttotal: 1.48s\tremaining: 2.73s\n",
      "351:\tlearn: 0.5265801\ttotal: 1.48s\tremaining: 2.73s\n",
      "352:\tlearn: 0.5264444\ttotal: 1.49s\tremaining: 2.73s\n",
      "353:\tlearn: 0.5262814\ttotal: 1.49s\tremaining: 2.72s\n",
      "354:\tlearn: 0.5260954\ttotal: 1.49s\tremaining: 2.71s\n",
      "355:\tlearn: 0.5259211\ttotal: 1.5s\tremaining: 2.71s\n",
      "356:\tlearn: 0.5257282\ttotal: 1.5s\tremaining: 2.71s\n",
      "357:\tlearn: 0.5256314\ttotal: 1.51s\tremaining: 2.7s\n",
      "358:\tlearn: 0.5254306\ttotal: 1.51s\tremaining: 2.7s\n",
      "359:\tlearn: 0.5250482\ttotal: 1.51s\tremaining: 2.69s\n",
      "360:\tlearn: 0.5249011\ttotal: 1.52s\tremaining: 2.69s\n",
      "361:\tlearn: 0.5245066\ttotal: 1.52s\tremaining: 2.68s\n",
      "362:\tlearn: 0.5243575\ttotal: 1.53s\tremaining: 2.68s\n",
      "363:\tlearn: 0.5241460\ttotal: 1.53s\tremaining: 2.67s\n",
      "364:\tlearn: 0.5239304\ttotal: 1.53s\tremaining: 2.67s\n",
      "365:\tlearn: 0.5235457\ttotal: 1.54s\tremaining: 2.67s\n",
      "366:\tlearn: 0.5233490\ttotal: 1.54s\tremaining: 2.66s\n",
      "367:\tlearn: 0.5230265\ttotal: 1.55s\tremaining: 2.66s\n",
      "368:\tlearn: 0.5228474\ttotal: 1.55s\tremaining: 2.65s\n",
      "369:\tlearn: 0.5227650\ttotal: 1.55s\tremaining: 2.65s\n",
      "370:\tlearn: 0.5226213\ttotal: 1.56s\tremaining: 2.64s\n",
      "371:\tlearn: 0.5223171\ttotal: 1.56s\tremaining: 2.64s\n",
      "372:\tlearn: 0.5221619\ttotal: 1.57s\tremaining: 2.64s\n",
      "373:\tlearn: 0.5220167\ttotal: 1.57s\tremaining: 2.63s\n",
      "374:\tlearn: 0.5217833\ttotal: 1.58s\tremaining: 2.63s\n",
      "375:\tlearn: 0.5217139\ttotal: 1.58s\tremaining: 2.63s\n",
      "376:\tlearn: 0.5216402\ttotal: 1.59s\tremaining: 2.62s\n",
      "377:\tlearn: 0.5214303\ttotal: 1.59s\tremaining: 2.62s\n",
      "378:\tlearn: 0.5212684\ttotal: 1.59s\tremaining: 2.61s\n",
      "379:\tlearn: 0.5210196\ttotal: 1.6s\tremaining: 2.61s\n",
      "380:\tlearn: 0.5208323\ttotal: 1.6s\tremaining: 2.61s\n",
      "381:\tlearn: 0.5206950\ttotal: 1.61s\tremaining: 2.6s\n",
      "382:\tlearn: 0.5205111\ttotal: 1.61s\tremaining: 2.6s\n",
      "383:\tlearn: 0.5203657\ttotal: 1.62s\tremaining: 2.59s\n",
      "384:\tlearn: 0.5201803\ttotal: 1.62s\tremaining: 2.59s\n",
      "385:\tlearn: 0.5200263\ttotal: 1.62s\tremaining: 2.58s\n",
      "386:\tlearn: 0.5198831\ttotal: 1.63s\tremaining: 2.58s\n",
      "387:\tlearn: 0.5197009\ttotal: 1.63s\tremaining: 2.57s\n",
      "388:\tlearn: 0.5195731\ttotal: 1.63s\tremaining: 2.57s\n",
      "389:\tlearn: 0.5193056\ttotal: 1.64s\tremaining: 2.56s\n",
      "390:\tlearn: 0.5191615\ttotal: 1.64s\tremaining: 2.56s\n",
      "391:\tlearn: 0.5190175\ttotal: 1.65s\tremaining: 2.56s\n",
      "392:\tlearn: 0.5188778\ttotal: 1.65s\tremaining: 2.55s\n",
      "393:\tlearn: 0.5187009\ttotal: 1.66s\tremaining: 2.55s\n",
      "394:\tlearn: 0.5183961\ttotal: 1.66s\tremaining: 2.54s\n",
      "395:\tlearn: 0.5182629\ttotal: 1.66s\tremaining: 2.54s\n",
      "396:\tlearn: 0.5181033\ttotal: 1.67s\tremaining: 2.53s\n",
      "397:\tlearn: 0.5179043\ttotal: 1.67s\tremaining: 2.53s\n",
      "398:\tlearn: 0.5178328\ttotal: 1.68s\tremaining: 2.52s\n",
      "399:\tlearn: 0.5176468\ttotal: 1.68s\tremaining: 2.52s\n",
      "400:\tlearn: 0.5174374\ttotal: 1.68s\tremaining: 2.52s\n",
      "401:\tlearn: 0.5173114\ttotal: 1.69s\tremaining: 2.51s\n",
      "402:\tlearn: 0.5170634\ttotal: 1.69s\tremaining: 2.51s\n",
      "403:\tlearn: 0.5168294\ttotal: 1.7s\tremaining: 2.5s\n",
      "404:\tlearn: 0.5166570\ttotal: 1.7s\tremaining: 2.5s\n",
      "405:\tlearn: 0.5164752\ttotal: 1.7s\tremaining: 2.49s\n",
      "406:\tlearn: 0.5162858\ttotal: 1.71s\tremaining: 2.49s\n",
      "407:\tlearn: 0.5161650\ttotal: 1.71s\tremaining: 2.48s\n",
      "408:\tlearn: 0.5160148\ttotal: 1.72s\tremaining: 2.48s\n",
      "409:\tlearn: 0.5157941\ttotal: 1.72s\tremaining: 2.47s\n",
      "410:\tlearn: 0.5157069\ttotal: 1.72s\tremaining: 2.47s\n",
      "411:\tlearn: 0.5156146\ttotal: 1.73s\tremaining: 2.46s\n",
      "412:\tlearn: 0.5154107\ttotal: 1.73s\tremaining: 2.46s\n",
      "413:\tlearn: 0.5151716\ttotal: 1.74s\tremaining: 2.46s\n",
      "414:\tlearn: 0.5149805\ttotal: 1.74s\tremaining: 2.45s\n",
      "415:\tlearn: 0.5147743\ttotal: 1.74s\tremaining: 2.45s\n",
      "416:\tlearn: 0.5146456\ttotal: 1.75s\tremaining: 2.45s\n",
      "417:\tlearn: 0.5144538\ttotal: 1.75s\tremaining: 2.44s\n",
      "418:\tlearn: 0.5143019\ttotal: 1.76s\tremaining: 2.44s\n",
      "419:\tlearn: 0.5141583\ttotal: 1.76s\tremaining: 2.44s\n",
      "420:\tlearn: 0.5139721\ttotal: 1.77s\tremaining: 2.43s\n",
      "421:\tlearn: 0.5136507\ttotal: 1.77s\tremaining: 2.43s\n",
      "422:\tlearn: 0.5134798\ttotal: 1.78s\tremaining: 2.42s\n",
      "423:\tlearn: 0.5132361\ttotal: 1.78s\tremaining: 2.42s\n",
      "424:\tlearn: 0.5129656\ttotal: 1.79s\tremaining: 2.42s\n",
      "425:\tlearn: 0.5128735\ttotal: 1.79s\tremaining: 2.41s\n",
      "426:\tlearn: 0.5124763\ttotal: 1.79s\tremaining: 2.41s\n",
      "427:\tlearn: 0.5123064\ttotal: 1.8s\tremaining: 2.4s\n",
      "428:\tlearn: 0.5120881\ttotal: 1.8s\tremaining: 2.4s\n",
      "429:\tlearn: 0.5118375\ttotal: 1.8s\tremaining: 2.39s\n",
      "430:\tlearn: 0.5115862\ttotal: 1.81s\tremaining: 2.39s\n",
      "431:\tlearn: 0.5111984\ttotal: 1.81s\tremaining: 2.38s\n",
      "432:\tlearn: 0.5110957\ttotal: 1.81s\tremaining: 2.38s\n",
      "433:\tlearn: 0.5109382\ttotal: 1.82s\tremaining: 2.37s\n",
      "434:\tlearn: 0.5108071\ttotal: 1.82s\tremaining: 2.37s\n",
      "435:\tlearn: 0.5106505\ttotal: 1.82s\tremaining: 2.36s\n",
      "436:\tlearn: 0.5104535\ttotal: 1.83s\tremaining: 2.36s\n",
      "437:\tlearn: 0.5102310\ttotal: 1.83s\tremaining: 2.35s\n",
      "438:\tlearn: 0.5100347\ttotal: 1.84s\tremaining: 2.35s\n",
      "439:\tlearn: 0.5099353\ttotal: 1.84s\tremaining: 2.34s\n",
      "440:\tlearn: 0.5097385\ttotal: 1.84s\tremaining: 2.34s\n",
      "441:\tlearn: 0.5095351\ttotal: 1.85s\tremaining: 2.33s\n",
      "442:\tlearn: 0.5094377\ttotal: 1.85s\tremaining: 2.33s\n",
      "443:\tlearn: 0.5092754\ttotal: 1.85s\tremaining: 2.32s\n",
      "444:\tlearn: 0.5090890\ttotal: 1.86s\tremaining: 2.32s\n",
      "445:\tlearn: 0.5089154\ttotal: 1.86s\tremaining: 2.31s\n",
      "446:\tlearn: 0.5084644\ttotal: 1.87s\tremaining: 2.31s\n",
      "447:\tlearn: 0.5083077\ttotal: 1.87s\tremaining: 2.31s\n",
      "448:\tlearn: 0.5079878\ttotal: 1.88s\tremaining: 2.3s\n",
      "449:\tlearn: 0.5078441\ttotal: 1.88s\tremaining: 2.3s\n",
      "450:\tlearn: 0.5076948\ttotal: 1.88s\tremaining: 2.29s\n",
      "451:\tlearn: 0.5075531\ttotal: 1.89s\tremaining: 2.29s\n",
      "452:\tlearn: 0.5072927\ttotal: 1.89s\tremaining: 2.28s\n",
      "453:\tlearn: 0.5071344\ttotal: 1.9s\tremaining: 2.28s\n",
      "454:\tlearn: 0.5069004\ttotal: 1.9s\tremaining: 2.27s\n",
      "455:\tlearn: 0.5067462\ttotal: 1.9s\tremaining: 2.27s\n",
      "456:\tlearn: 0.5064968\ttotal: 1.91s\tremaining: 2.27s\n",
      "457:\tlearn: 0.5062828\ttotal: 1.91s\tremaining: 2.26s\n",
      "458:\tlearn: 0.5061011\ttotal: 1.92s\tremaining: 2.26s\n",
      "459:\tlearn: 0.5058538\ttotal: 1.92s\tremaining: 2.25s\n",
      "460:\tlearn: 0.5056572\ttotal: 1.92s\tremaining: 2.25s\n",
      "461:\tlearn: 0.5055214\ttotal: 1.93s\tremaining: 2.24s\n",
      "462:\tlearn: 0.5054468\ttotal: 1.93s\tremaining: 2.24s\n",
      "463:\tlearn: 0.5052761\ttotal: 1.94s\tremaining: 2.23s\n",
      "464:\tlearn: 0.5051398\ttotal: 1.94s\tremaining: 2.23s\n",
      "465:\tlearn: 0.5050454\ttotal: 1.94s\tremaining: 2.23s\n",
      "466:\tlearn: 0.5048563\ttotal: 1.95s\tremaining: 2.22s\n",
      "467:\tlearn: 0.5046758\ttotal: 1.95s\tremaining: 2.22s\n",
      "468:\tlearn: 0.5045751\ttotal: 1.96s\tremaining: 2.22s\n",
      "469:\tlearn: 0.5044754\ttotal: 1.96s\tremaining: 2.21s\n",
      "470:\tlearn: 0.5043099\ttotal: 1.97s\tremaining: 2.21s\n",
      "471:\tlearn: 0.5041236\ttotal: 1.97s\tremaining: 2.2s\n",
      "472:\tlearn: 0.5037142\ttotal: 1.97s\tremaining: 2.2s\n",
      "473:\tlearn: 0.5035564\ttotal: 1.98s\tremaining: 2.19s\n",
      "474:\tlearn: 0.5033865\ttotal: 1.98s\tremaining: 2.19s\n",
      "475:\tlearn: 0.5031201\ttotal: 1.98s\tremaining: 2.19s\n",
      "476:\tlearn: 0.5029654\ttotal: 1.99s\tremaining: 2.18s\n",
      "477:\tlearn: 0.5028727\ttotal: 1.99s\tremaining: 2.18s\n",
      "478:\tlearn: 0.5025714\ttotal: 2s\tremaining: 2.17s\n",
      "479:\tlearn: 0.5023413\ttotal: 2s\tremaining: 2.17s\n",
      "480:\tlearn: 0.5021935\ttotal: 2s\tremaining: 2.16s\n",
      "481:\tlearn: 0.5021103\ttotal: 2.01s\tremaining: 2.16s\n",
      "482:\tlearn: 0.5018188\ttotal: 2.01s\tremaining: 2.15s\n",
      "483:\tlearn: 0.5016034\ttotal: 2.02s\tremaining: 2.15s\n",
      "484:\tlearn: 0.5013979\ttotal: 2.02s\tremaining: 2.15s\n",
      "485:\tlearn: 0.5012778\ttotal: 2.02s\tremaining: 2.14s\n",
      "486:\tlearn: 0.5010252\ttotal: 2.03s\tremaining: 2.14s\n",
      "487:\tlearn: 0.5008935\ttotal: 2.03s\tremaining: 2.13s\n",
      "488:\tlearn: 0.5007251\ttotal: 2.04s\tremaining: 2.13s\n",
      "489:\tlearn: 0.5004999\ttotal: 2.04s\tremaining: 2.12s\n",
      "490:\tlearn: 0.5002945\ttotal: 2.04s\tremaining: 2.12s\n",
      "491:\tlearn: 0.5000750\ttotal: 2.05s\tremaining: 2.11s\n",
      "492:\tlearn: 0.4998809\ttotal: 2.05s\tremaining: 2.11s\n",
      "493:\tlearn: 0.4996803\ttotal: 2.06s\tremaining: 2.1s\n",
      "494:\tlearn: 0.4994030\ttotal: 2.06s\tremaining: 2.1s\n",
      "495:\tlearn: 0.4991733\ttotal: 2.06s\tremaining: 2.1s\n",
      "496:\tlearn: 0.4989938\ttotal: 2.07s\tremaining: 2.09s\n",
      "497:\tlearn: 0.4987341\ttotal: 2.07s\tremaining: 2.09s\n",
      "498:\tlearn: 0.4986573\ttotal: 2.07s\tremaining: 2.08s\n",
      "499:\tlearn: 0.4983960\ttotal: 2.08s\tremaining: 2.08s\n",
      "500:\tlearn: 0.4982740\ttotal: 2.08s\tremaining: 2.07s\n",
      "501:\tlearn: 0.4980960\ttotal: 2.09s\tremaining: 2.07s\n",
      "502:\tlearn: 0.4978404\ttotal: 2.09s\tremaining: 2.06s\n",
      "503:\tlearn: 0.4976612\ttotal: 2.09s\tremaining: 2.06s\n",
      "504:\tlearn: 0.4974380\ttotal: 2.1s\tremaining: 2.06s\n",
      "505:\tlearn: 0.4972683\ttotal: 2.1s\tremaining: 2.05s\n",
      "506:\tlearn: 0.4971047\ttotal: 2.11s\tremaining: 2.05s\n",
      "507:\tlearn: 0.4970032\ttotal: 2.11s\tremaining: 2.04s\n",
      "508:\tlearn: 0.4965871\ttotal: 2.11s\tremaining: 2.04s\n",
      "509:\tlearn: 0.4963940\ttotal: 2.12s\tremaining: 2.04s\n",
      "510:\tlearn: 0.4962335\ttotal: 2.12s\tremaining: 2.03s\n",
      "511:\tlearn: 0.4960810\ttotal: 2.13s\tremaining: 2.03s\n",
      "512:\tlearn: 0.4959789\ttotal: 2.13s\tremaining: 2.02s\n",
      "513:\tlearn: 0.4958782\ttotal: 2.13s\tremaining: 2.02s\n",
      "514:\tlearn: 0.4956089\ttotal: 2.14s\tremaining: 2.01s\n",
      "515:\tlearn: 0.4954609\ttotal: 2.14s\tremaining: 2.01s\n",
      "516:\tlearn: 0.4953034\ttotal: 2.15s\tremaining: 2.01s\n",
      "517:\tlearn: 0.4951041\ttotal: 2.15s\tremaining: 2s\n",
      "518:\tlearn: 0.4948451\ttotal: 2.15s\tremaining: 2s\n",
      "519:\tlearn: 0.4947716\ttotal: 2.16s\tremaining: 1.99s\n",
      "520:\tlearn: 0.4945800\ttotal: 2.16s\tremaining: 1.99s\n",
      "521:\tlearn: 0.4945023\ttotal: 2.17s\tremaining: 1.99s\n",
      "522:\tlearn: 0.4943960\ttotal: 2.17s\tremaining: 1.98s\n",
      "523:\tlearn: 0.4942476\ttotal: 2.18s\tremaining: 1.98s\n",
      "524:\tlearn: 0.4940190\ttotal: 2.18s\tremaining: 1.97s\n",
      "525:\tlearn: 0.4938810\ttotal: 2.19s\tremaining: 1.97s\n",
      "526:\tlearn: 0.4937661\ttotal: 2.19s\tremaining: 1.97s\n",
      "527:\tlearn: 0.4936102\ttotal: 2.19s\tremaining: 1.96s\n",
      "528:\tlearn: 0.4934115\ttotal: 2.2s\tremaining: 1.96s\n",
      "529:\tlearn: 0.4932292\ttotal: 2.2s\tremaining: 1.95s\n",
      "530:\tlearn: 0.4930571\ttotal: 2.21s\tremaining: 1.95s\n",
      "531:\tlearn: 0.4929636\ttotal: 2.21s\tremaining: 1.95s\n",
      "532:\tlearn: 0.4928176\ttotal: 2.21s\tremaining: 1.94s\n",
      "533:\tlearn: 0.4925938\ttotal: 2.22s\tremaining: 1.94s\n",
      "534:\tlearn: 0.4924145\ttotal: 2.22s\tremaining: 1.93s\n",
      "535:\tlearn: 0.4922829\ttotal: 2.23s\tremaining: 1.93s\n",
      "536:\tlearn: 0.4921532\ttotal: 2.23s\tremaining: 1.92s\n",
      "537:\tlearn: 0.4920512\ttotal: 2.23s\tremaining: 1.92s\n",
      "538:\tlearn: 0.4919156\ttotal: 2.24s\tremaining: 1.91s\n",
      "539:\tlearn: 0.4918049\ttotal: 2.24s\tremaining: 1.91s\n",
      "540:\tlearn: 0.4916716\ttotal: 2.25s\tremaining: 1.91s\n",
      "541:\tlearn: 0.4915708\ttotal: 2.25s\tremaining: 1.9s\n",
      "542:\tlearn: 0.4914986\ttotal: 2.25s\tremaining: 1.9s\n",
      "543:\tlearn: 0.4913878\ttotal: 2.26s\tremaining: 1.89s\n",
      "544:\tlearn: 0.4911376\ttotal: 2.26s\tremaining: 1.89s\n",
      "545:\tlearn: 0.4909400\ttotal: 2.27s\tremaining: 1.89s\n",
      "546:\tlearn: 0.4907322\ttotal: 2.27s\tremaining: 1.88s\n",
      "547:\tlearn: 0.4905357\ttotal: 2.28s\tremaining: 1.88s\n",
      "548:\tlearn: 0.4904430\ttotal: 2.28s\tremaining: 1.87s\n",
      "549:\tlearn: 0.4902587\ttotal: 2.28s\tremaining: 1.87s\n",
      "550:\tlearn: 0.4899571\ttotal: 2.29s\tremaining: 1.86s\n",
      "551:\tlearn: 0.4896987\ttotal: 2.29s\tremaining: 1.86s\n",
      "552:\tlearn: 0.4896250\ttotal: 2.3s\tremaining: 1.86s\n",
      "553:\tlearn: 0.4894991\ttotal: 2.3s\tremaining: 1.85s\n",
      "554:\tlearn: 0.4892346\ttotal: 2.3s\tremaining: 1.85s\n",
      "555:\tlearn: 0.4890192\ttotal: 2.31s\tremaining: 1.84s\n",
      "556:\tlearn: 0.4889246\ttotal: 2.31s\tremaining: 1.84s\n",
      "557:\tlearn: 0.4888171\ttotal: 2.32s\tremaining: 1.84s\n",
      "558:\tlearn: 0.4886221\ttotal: 2.32s\tremaining: 1.83s\n",
      "559:\tlearn: 0.4884395\ttotal: 2.33s\tremaining: 1.83s\n",
      "560:\tlearn: 0.4881694\ttotal: 2.33s\tremaining: 1.82s\n",
      "561:\tlearn: 0.4880052\ttotal: 2.33s\tremaining: 1.82s\n",
      "562:\tlearn: 0.4878616\ttotal: 2.34s\tremaining: 1.82s\n",
      "563:\tlearn: 0.4875886\ttotal: 2.35s\tremaining: 1.81s\n",
      "564:\tlearn: 0.4874504\ttotal: 2.35s\tremaining: 1.81s\n",
      "565:\tlearn: 0.4872875\ttotal: 2.35s\tremaining: 1.8s\n",
      "566:\tlearn: 0.4871021\ttotal: 2.36s\tremaining: 1.8s\n",
      "567:\tlearn: 0.4869793\ttotal: 2.36s\tremaining: 1.79s\n",
      "568:\tlearn: 0.4868812\ttotal: 2.36s\tremaining: 1.79s\n",
      "569:\tlearn: 0.4866884\ttotal: 2.37s\tremaining: 1.79s\n",
      "570:\tlearn: 0.4865413\ttotal: 2.37s\tremaining: 1.78s\n",
      "571:\tlearn: 0.4863858\ttotal: 2.38s\tremaining: 1.78s\n",
      "572:\tlearn: 0.4862190\ttotal: 2.38s\tremaining: 1.77s\n",
      "573:\tlearn: 0.4860726\ttotal: 2.38s\tremaining: 1.77s\n",
      "574:\tlearn: 0.4858649\ttotal: 2.39s\tremaining: 1.77s\n",
      "575:\tlearn: 0.4856944\ttotal: 2.39s\tremaining: 1.76s\n",
      "576:\tlearn: 0.4855104\ttotal: 2.4s\tremaining: 1.76s\n",
      "577:\tlearn: 0.4852455\ttotal: 2.4s\tremaining: 1.75s\n",
      "578:\tlearn: 0.4850292\ttotal: 2.4s\tremaining: 1.75s\n",
      "579:\tlearn: 0.4848512\ttotal: 2.41s\tremaining: 1.74s\n",
      "580:\tlearn: 0.4847304\ttotal: 2.41s\tremaining: 1.74s\n",
      "581:\tlearn: 0.4844998\ttotal: 2.42s\tremaining: 1.74s\n",
      "582:\tlearn: 0.4844140\ttotal: 2.42s\tremaining: 1.73s\n",
      "583:\tlearn: 0.4842531\ttotal: 2.42s\tremaining: 1.73s\n",
      "584:\tlearn: 0.4841105\ttotal: 2.43s\tremaining: 1.72s\n",
      "585:\tlearn: 0.4839268\ttotal: 2.43s\tremaining: 1.72s\n",
      "586:\tlearn: 0.4837187\ttotal: 2.44s\tremaining: 1.71s\n",
      "587:\tlearn: 0.4835889\ttotal: 2.44s\tremaining: 1.71s\n",
      "588:\tlearn: 0.4834994\ttotal: 2.44s\tremaining: 1.71s\n",
      "589:\tlearn: 0.4833865\ttotal: 2.45s\tremaining: 1.7s\n",
      "590:\tlearn: 0.4832025\ttotal: 2.45s\tremaining: 1.7s\n",
      "591:\tlearn: 0.4829652\ttotal: 2.46s\tremaining: 1.69s\n",
      "592:\tlearn: 0.4826432\ttotal: 2.46s\tremaining: 1.69s\n",
      "593:\tlearn: 0.4824097\ttotal: 2.47s\tremaining: 1.69s\n",
      "594:\tlearn: 0.4822764\ttotal: 2.47s\tremaining: 1.68s\n",
      "595:\tlearn: 0.4821475\ttotal: 2.47s\tremaining: 1.68s\n",
      "596:\tlearn: 0.4819007\ttotal: 2.48s\tremaining: 1.67s\n",
      "597:\tlearn: 0.4816700\ttotal: 2.48s\tremaining: 1.67s\n",
      "598:\tlearn: 0.4814787\ttotal: 2.49s\tremaining: 1.67s\n",
      "599:\tlearn: 0.4813049\ttotal: 2.49s\tremaining: 1.66s\n",
      "600:\tlearn: 0.4811160\ttotal: 2.5s\tremaining: 1.66s\n",
      "601:\tlearn: 0.4810118\ttotal: 2.5s\tremaining: 1.65s\n",
      "602:\tlearn: 0.4808971\ttotal: 2.5s\tremaining: 1.65s\n",
      "603:\tlearn: 0.4806724\ttotal: 2.51s\tremaining: 1.64s\n",
      "604:\tlearn: 0.4805550\ttotal: 2.51s\tremaining: 1.64s\n",
      "605:\tlearn: 0.4804186\ttotal: 2.52s\tremaining: 1.64s\n",
      "606:\tlearn: 0.4801913\ttotal: 2.52s\tremaining: 1.63s\n",
      "607:\tlearn: 0.4801048\ttotal: 2.52s\tremaining: 1.63s\n",
      "608:\tlearn: 0.4800409\ttotal: 2.53s\tremaining: 1.62s\n",
      "609:\tlearn: 0.4799329\ttotal: 2.53s\tremaining: 1.62s\n",
      "610:\tlearn: 0.4797970\ttotal: 2.54s\tremaining: 1.61s\n",
      "611:\tlearn: 0.4796449\ttotal: 2.54s\tremaining: 1.61s\n",
      "612:\tlearn: 0.4795261\ttotal: 2.54s\tremaining: 1.61s\n",
      "613:\tlearn: 0.4792959\ttotal: 2.55s\tremaining: 1.6s\n",
      "614:\tlearn: 0.4790798\ttotal: 2.55s\tremaining: 1.6s\n",
      "615:\tlearn: 0.4789156\ttotal: 2.56s\tremaining: 1.59s\n",
      "616:\tlearn: 0.4787417\ttotal: 2.56s\tremaining: 1.59s\n",
      "617:\tlearn: 0.4785563\ttotal: 2.56s\tremaining: 1.58s\n",
      "618:\tlearn: 0.4784037\ttotal: 2.57s\tremaining: 1.58s\n",
      "619:\tlearn: 0.4781615\ttotal: 2.57s\tremaining: 1.58s\n",
      "620:\tlearn: 0.4779210\ttotal: 2.58s\tremaining: 1.57s\n",
      "621:\tlearn: 0.4777087\ttotal: 2.58s\tremaining: 1.57s\n",
      "622:\tlearn: 0.4774680\ttotal: 2.58s\tremaining: 1.56s\n",
      "623:\tlearn: 0.4772567\ttotal: 2.59s\tremaining: 1.56s\n",
      "624:\tlearn: 0.4770749\ttotal: 2.59s\tremaining: 1.55s\n",
      "625:\tlearn: 0.4767557\ttotal: 2.6s\tremaining: 1.55s\n",
      "626:\tlearn: 0.4764866\ttotal: 2.6s\tremaining: 1.55s\n",
      "627:\tlearn: 0.4762847\ttotal: 2.6s\tremaining: 1.54s\n",
      "628:\tlearn: 0.4761560\ttotal: 2.61s\tremaining: 1.54s\n",
      "629:\tlearn: 0.4759896\ttotal: 2.61s\tremaining: 1.53s\n",
      "630:\tlearn: 0.4758448\ttotal: 2.61s\tremaining: 1.53s\n",
      "631:\tlearn: 0.4756128\ttotal: 2.62s\tremaining: 1.52s\n",
      "632:\tlearn: 0.4754585\ttotal: 2.62s\tremaining: 1.52s\n",
      "633:\tlearn: 0.4753252\ttotal: 2.63s\tremaining: 1.52s\n",
      "634:\tlearn: 0.4752454\ttotal: 2.63s\tremaining: 1.51s\n",
      "635:\tlearn: 0.4751258\ttotal: 2.63s\tremaining: 1.51s\n",
      "636:\tlearn: 0.4749686\ttotal: 2.64s\tremaining: 1.5s\n",
      "637:\tlearn: 0.4748184\ttotal: 2.64s\tremaining: 1.5s\n",
      "638:\tlearn: 0.4746856\ttotal: 2.65s\tremaining: 1.49s\n",
      "639:\tlearn: 0.4744652\ttotal: 2.65s\tremaining: 1.49s\n",
      "640:\tlearn: 0.4742286\ttotal: 2.65s\tremaining: 1.49s\n",
      "641:\tlearn: 0.4741399\ttotal: 2.65s\tremaining: 1.48s\n",
      "642:\tlearn: 0.4739871\ttotal: 2.66s\tremaining: 1.48s\n",
      "643:\tlearn: 0.4738432\ttotal: 2.66s\tremaining: 1.47s\n",
      "644:\tlearn: 0.4736427\ttotal: 2.67s\tremaining: 1.47s\n",
      "645:\tlearn: 0.4735007\ttotal: 2.67s\tremaining: 1.46s\n",
      "646:\tlearn: 0.4734021\ttotal: 2.67s\tremaining: 1.46s\n",
      "647:\tlearn: 0.4732002\ttotal: 2.68s\tremaining: 1.45s\n",
      "648:\tlearn: 0.4729225\ttotal: 2.68s\tremaining: 1.45s\n",
      "649:\tlearn: 0.4727450\ttotal: 2.69s\tremaining: 1.45s\n",
      "650:\tlearn: 0.4725333\ttotal: 2.69s\tremaining: 1.44s\n",
      "651:\tlearn: 0.4723596\ttotal: 2.69s\tremaining: 1.44s\n",
      "652:\tlearn: 0.4722225\ttotal: 2.7s\tremaining: 1.43s\n",
      "653:\tlearn: 0.4718862\ttotal: 2.7s\tremaining: 1.43s\n",
      "654:\tlearn: 0.4716694\ttotal: 2.7s\tremaining: 1.42s\n",
      "655:\tlearn: 0.4714452\ttotal: 2.71s\tremaining: 1.42s\n",
      "656:\tlearn: 0.4712618\ttotal: 2.71s\tremaining: 1.42s\n",
      "657:\tlearn: 0.4710362\ttotal: 2.71s\tremaining: 1.41s\n",
      "658:\tlearn: 0.4708626\ttotal: 2.72s\tremaining: 1.41s\n",
      "659:\tlearn: 0.4706089\ttotal: 2.72s\tremaining: 1.4s\n",
      "660:\tlearn: 0.4704742\ttotal: 2.73s\tremaining: 1.4s\n",
      "661:\tlearn: 0.4703694\ttotal: 2.73s\tremaining: 1.4s\n",
      "662:\tlearn: 0.4702234\ttotal: 2.74s\tremaining: 1.39s\n",
      "663:\tlearn: 0.4700345\ttotal: 2.74s\tremaining: 1.39s\n",
      "664:\tlearn: 0.4698242\ttotal: 2.74s\tremaining: 1.38s\n",
      "665:\tlearn: 0.4696149\ttotal: 2.75s\tremaining: 1.38s\n",
      "666:\tlearn: 0.4694245\ttotal: 2.75s\tremaining: 1.37s\n",
      "667:\tlearn: 0.4692254\ttotal: 2.75s\tremaining: 1.37s\n",
      "668:\tlearn: 0.4691090\ttotal: 2.76s\tremaining: 1.36s\n",
      "669:\tlearn: 0.4689146\ttotal: 2.76s\tremaining: 1.36s\n",
      "670:\tlearn: 0.4687278\ttotal: 2.76s\tremaining: 1.35s\n",
      "671:\tlearn: 0.4685804\ttotal: 2.77s\tremaining: 1.35s\n",
      "672:\tlearn: 0.4684615\ttotal: 2.77s\tremaining: 1.35s\n",
      "673:\tlearn: 0.4682176\ttotal: 2.77s\tremaining: 1.34s\n",
      "674:\tlearn: 0.4679676\ttotal: 2.78s\tremaining: 1.34s\n",
      "675:\tlearn: 0.4677116\ttotal: 2.78s\tremaining: 1.33s\n",
      "676:\tlearn: 0.4675672\ttotal: 2.79s\tremaining: 1.33s\n",
      "677:\tlearn: 0.4674004\ttotal: 2.79s\tremaining: 1.32s\n",
      "678:\tlearn: 0.4672321\ttotal: 2.79s\tremaining: 1.32s\n",
      "679:\tlearn: 0.4670334\ttotal: 2.8s\tremaining: 1.32s\n",
      "680:\tlearn: 0.4668429\ttotal: 2.8s\tremaining: 1.31s\n",
      "681:\tlearn: 0.4666269\ttotal: 2.81s\tremaining: 1.31s\n",
      "682:\tlearn: 0.4663843\ttotal: 2.81s\tremaining: 1.3s\n",
      "683:\tlearn: 0.4662301\ttotal: 2.81s\tremaining: 1.3s\n",
      "684:\tlearn: 0.4660507\ttotal: 2.82s\tremaining: 1.3s\n",
      "685:\tlearn: 0.4658495\ttotal: 2.82s\tremaining: 1.29s\n",
      "686:\tlearn: 0.4657217\ttotal: 2.83s\tremaining: 1.29s\n",
      "687:\tlearn: 0.4654979\ttotal: 2.83s\tremaining: 1.28s\n",
      "688:\tlearn: 0.4652597\ttotal: 2.83s\tremaining: 1.28s\n",
      "689:\tlearn: 0.4651104\ttotal: 2.84s\tremaining: 1.27s\n",
      "690:\tlearn: 0.4649407\ttotal: 2.84s\tremaining: 1.27s\n",
      "691:\tlearn: 0.4647666\ttotal: 2.85s\tremaining: 1.27s\n",
      "692:\tlearn: 0.4646189\ttotal: 2.85s\tremaining: 1.26s\n",
      "693:\tlearn: 0.4643846\ttotal: 2.85s\tremaining: 1.26s\n",
      "694:\tlearn: 0.4642369\ttotal: 2.86s\tremaining: 1.25s\n",
      "695:\tlearn: 0.4641337\ttotal: 2.86s\tremaining: 1.25s\n",
      "696:\tlearn: 0.4639909\ttotal: 2.87s\tremaining: 1.25s\n",
      "697:\tlearn: 0.4638138\ttotal: 2.87s\tremaining: 1.24s\n",
      "698:\tlearn: 0.4636254\ttotal: 2.88s\tremaining: 1.24s\n",
      "699:\tlearn: 0.4633350\ttotal: 2.88s\tremaining: 1.23s\n",
      "700:\tlearn: 0.4630866\ttotal: 2.88s\tremaining: 1.23s\n",
      "701:\tlearn: 0.4628916\ttotal: 2.89s\tremaining: 1.23s\n",
      "702:\tlearn: 0.4626710\ttotal: 2.89s\tremaining: 1.22s\n",
      "703:\tlearn: 0.4625231\ttotal: 2.9s\tremaining: 1.22s\n",
      "704:\tlearn: 0.4624319\ttotal: 2.9s\tremaining: 1.21s\n",
      "705:\tlearn: 0.4622422\ttotal: 2.9s\tremaining: 1.21s\n",
      "706:\tlearn: 0.4620326\ttotal: 2.91s\tremaining: 1.2s\n",
      "707:\tlearn: 0.4617760\ttotal: 2.91s\tremaining: 1.2s\n",
      "708:\tlearn: 0.4615928\ttotal: 2.91s\tremaining: 1.2s\n",
      "709:\tlearn: 0.4614024\ttotal: 2.92s\tremaining: 1.19s\n",
      "710:\tlearn: 0.4611762\ttotal: 2.92s\tremaining: 1.19s\n",
      "711:\tlearn: 0.4610096\ttotal: 2.93s\tremaining: 1.18s\n",
      "712:\tlearn: 0.4607985\ttotal: 2.93s\tremaining: 1.18s\n",
      "713:\tlearn: 0.4605994\ttotal: 2.94s\tremaining: 1.18s\n",
      "714:\tlearn: 0.4605492\ttotal: 2.94s\tremaining: 1.17s\n",
      "715:\tlearn: 0.4604167\ttotal: 2.94s\tremaining: 1.17s\n",
      "716:\tlearn: 0.4603192\ttotal: 2.95s\tremaining: 1.16s\n",
      "717:\tlearn: 0.4600585\ttotal: 2.95s\tremaining: 1.16s\n",
      "718:\tlearn: 0.4599641\ttotal: 2.96s\tremaining: 1.15s\n",
      "719:\tlearn: 0.4599033\ttotal: 2.96s\tremaining: 1.15s\n",
      "720:\tlearn: 0.4596869\ttotal: 2.96s\tremaining: 1.15s\n",
      "721:\tlearn: 0.4594997\ttotal: 2.97s\tremaining: 1.14s\n",
      "722:\tlearn: 0.4593875\ttotal: 2.97s\tremaining: 1.14s\n",
      "723:\tlearn: 0.4592126\ttotal: 2.97s\tremaining: 1.13s\n",
      "724:\tlearn: 0.4590666\ttotal: 2.98s\tremaining: 1.13s\n",
      "725:\tlearn: 0.4589137\ttotal: 2.98s\tremaining: 1.13s\n",
      "726:\tlearn: 0.4587467\ttotal: 2.98s\tremaining: 1.12s\n",
      "727:\tlearn: 0.4585815\ttotal: 2.99s\tremaining: 1.12s\n",
      "728:\tlearn: 0.4583514\ttotal: 2.99s\tremaining: 1.11s\n",
      "729:\tlearn: 0.4582571\ttotal: 3s\tremaining: 1.11s\n",
      "730:\tlearn: 0.4579902\ttotal: 3s\tremaining: 1.1s\n",
      "731:\tlearn: 0.4578710\ttotal: 3s\tremaining: 1.1s\n",
      "732:\tlearn: 0.4577686\ttotal: 3.01s\tremaining: 1.09s\n",
      "733:\tlearn: 0.4576375\ttotal: 3.01s\tremaining: 1.09s\n",
      "734:\tlearn: 0.4575123\ttotal: 3.02s\tremaining: 1.09s\n",
      "735:\tlearn: 0.4573275\ttotal: 3.02s\tremaining: 1.08s\n",
      "736:\tlearn: 0.4571390\ttotal: 3.02s\tremaining: 1.08s\n",
      "737:\tlearn: 0.4570330\ttotal: 3.03s\tremaining: 1.07s\n",
      "738:\tlearn: 0.4568441\ttotal: 3.03s\tremaining: 1.07s\n",
      "739:\tlearn: 0.4566340\ttotal: 3.03s\tremaining: 1.06s\n",
      "740:\tlearn: 0.4564570\ttotal: 3.04s\tremaining: 1.06s\n",
      "741:\tlearn: 0.4562641\ttotal: 3.04s\tremaining: 1.06s\n",
      "742:\tlearn: 0.4560180\ttotal: 3.04s\tremaining: 1.05s\n",
      "743:\tlearn: 0.4558783\ttotal: 3.05s\tremaining: 1.05s\n",
      "744:\tlearn: 0.4556671\ttotal: 3.05s\tremaining: 1.04s\n",
      "745:\tlearn: 0.4555526\ttotal: 3.06s\tremaining: 1.04s\n",
      "746:\tlearn: 0.4553943\ttotal: 3.06s\tremaining: 1.04s\n",
      "747:\tlearn: 0.4551493\ttotal: 3.06s\tremaining: 1.03s\n",
      "748:\tlearn: 0.4549110\ttotal: 3.07s\tremaining: 1.03s\n",
      "749:\tlearn: 0.4546880\ttotal: 3.07s\tremaining: 1.02s\n",
      "750:\tlearn: 0.4543704\ttotal: 3.08s\tremaining: 1.02s\n",
      "751:\tlearn: 0.4542534\ttotal: 3.08s\tremaining: 1.01s\n",
      "752:\tlearn: 0.4540391\ttotal: 3.08s\tremaining: 1.01s\n",
      "753:\tlearn: 0.4538230\ttotal: 3.09s\tremaining: 1.01s\n",
      "754:\tlearn: 0.4537049\ttotal: 3.09s\tremaining: 1s\n",
      "755:\tlearn: 0.4534950\ttotal: 3.1s\tremaining: 999ms\n",
      "756:\tlearn: 0.4533043\ttotal: 3.1s\tremaining: 995ms\n",
      "757:\tlearn: 0.4531337\ttotal: 3.1s\tremaining: 991ms\n",
      "758:\tlearn: 0.4529741\ttotal: 3.11s\tremaining: 986ms\n",
      "759:\tlearn: 0.4527556\ttotal: 3.11s\tremaining: 982ms\n",
      "760:\tlearn: 0.4524454\ttotal: 3.11s\tremaining: 978ms\n",
      "761:\tlearn: 0.4522872\ttotal: 3.12s\tremaining: 976ms\n",
      "762:\tlearn: 0.4520721\ttotal: 3.13s\tremaining: 972ms\n",
      "763:\tlearn: 0.4517876\ttotal: 3.13s\tremaining: 968ms\n",
      "764:\tlearn: 0.4516181\ttotal: 3.14s\tremaining: 964ms\n",
      "765:\tlearn: 0.4513799\ttotal: 3.14s\tremaining: 960ms\n",
      "766:\tlearn: 0.4511588\ttotal: 3.15s\tremaining: 956ms\n",
      "767:\tlearn: 0.4509921\ttotal: 3.15s\tremaining: 952ms\n",
      "768:\tlearn: 0.4508217\ttotal: 3.15s\tremaining: 948ms\n",
      "769:\tlearn: 0.4506748\ttotal: 3.16s\tremaining: 944ms\n",
      "770:\tlearn: 0.4504794\ttotal: 3.16s\tremaining: 940ms\n",
      "771:\tlearn: 0.4502395\ttotal: 3.17s\tremaining: 936ms\n",
      "772:\tlearn: 0.4501132\ttotal: 3.17s\tremaining: 931ms\n",
      "773:\tlearn: 0.4499425\ttotal: 3.17s\tremaining: 927ms\n",
      "774:\tlearn: 0.4497696\ttotal: 3.18s\tremaining: 924ms\n",
      "775:\tlearn: 0.4496319\ttotal: 3.19s\tremaining: 920ms\n",
      "776:\tlearn: 0.4493993\ttotal: 3.19s\tremaining: 915ms\n",
      "777:\tlearn: 0.4491800\ttotal: 3.19s\tremaining: 911ms\n",
      "778:\tlearn: 0.4490441\ttotal: 3.2s\tremaining: 907ms\n",
      "779:\tlearn: 0.4487522\ttotal: 3.2s\tremaining: 903ms\n",
      "780:\tlearn: 0.4485738\ttotal: 3.21s\tremaining: 899ms\n",
      "781:\tlearn: 0.4482641\ttotal: 3.21s\tremaining: 895ms\n",
      "782:\tlearn: 0.4480158\ttotal: 3.21s\tremaining: 891ms\n",
      "783:\tlearn: 0.4478258\ttotal: 3.22s\tremaining: 887ms\n",
      "784:\tlearn: 0.4476700\ttotal: 3.22s\tremaining: 883ms\n",
      "785:\tlearn: 0.4473907\ttotal: 3.23s\tremaining: 879ms\n",
      "786:\tlearn: 0.4471704\ttotal: 3.23s\tremaining: 874ms\n",
      "787:\tlearn: 0.4469383\ttotal: 3.23s\tremaining: 870ms\n",
      "788:\tlearn: 0.4467196\ttotal: 3.24s\tremaining: 866ms\n",
      "789:\tlearn: 0.4464100\ttotal: 3.24s\tremaining: 862ms\n",
      "790:\tlearn: 0.4462671\ttotal: 3.25s\tremaining: 858ms\n",
      "791:\tlearn: 0.4459861\ttotal: 3.25s\tremaining: 854ms\n",
      "792:\tlearn: 0.4457882\ttotal: 3.25s\tremaining: 850ms\n",
      "793:\tlearn: 0.4455979\ttotal: 3.26s\tremaining: 846ms\n",
      "794:\tlearn: 0.4454290\ttotal: 3.26s\tremaining: 841ms\n",
      "795:\tlearn: 0.4452053\ttotal: 3.27s\tremaining: 837ms\n",
      "796:\tlearn: 0.4450232\ttotal: 3.27s\tremaining: 833ms\n",
      "797:\tlearn: 0.4447795\ttotal: 3.27s\tremaining: 829ms\n",
      "798:\tlearn: 0.4446243\ttotal: 3.28s\tremaining: 825ms\n",
      "799:\tlearn: 0.4444281\ttotal: 3.28s\tremaining: 821ms\n",
      "800:\tlearn: 0.4442512\ttotal: 3.29s\tremaining: 817ms\n",
      "801:\tlearn: 0.4441359\ttotal: 3.29s\tremaining: 813ms\n",
      "802:\tlearn: 0.4440179\ttotal: 3.3s\tremaining: 809ms\n",
      "803:\tlearn: 0.4438354\ttotal: 3.3s\tremaining: 805ms\n",
      "804:\tlearn: 0.4436127\ttotal: 3.31s\tremaining: 801ms\n",
      "805:\tlearn: 0.4434610\ttotal: 3.31s\tremaining: 797ms\n",
      "806:\tlearn: 0.4432830\ttotal: 3.32s\tremaining: 794ms\n",
      "807:\tlearn: 0.4431430\ttotal: 3.32s\tremaining: 790ms\n",
      "808:\tlearn: 0.4430245\ttotal: 3.33s\tremaining: 786ms\n",
      "809:\tlearn: 0.4427979\ttotal: 3.33s\tremaining: 782ms\n",
      "810:\tlearn: 0.4424881\ttotal: 3.34s\tremaining: 778ms\n",
      "811:\tlearn: 0.4423209\ttotal: 3.34s\tremaining: 773ms\n",
      "812:\tlearn: 0.4421262\ttotal: 3.34s\tremaining: 769ms\n",
      "813:\tlearn: 0.4419107\ttotal: 3.35s\tremaining: 765ms\n",
      "814:\tlearn: 0.4416620\ttotal: 3.35s\tremaining: 761ms\n",
      "815:\tlearn: 0.4415188\ttotal: 3.36s\tremaining: 757ms\n",
      "816:\tlearn: 0.4413932\ttotal: 3.36s\tremaining: 753ms\n",
      "817:\tlearn: 0.4412657\ttotal: 3.36s\tremaining: 749ms\n",
      "818:\tlearn: 0.4410110\ttotal: 3.37s\tremaining: 745ms\n",
      "819:\tlearn: 0.4407133\ttotal: 3.37s\tremaining: 740ms\n",
      "820:\tlearn: 0.4405278\ttotal: 3.38s\tremaining: 736ms\n",
      "821:\tlearn: 0.4403754\ttotal: 3.38s\tremaining: 732ms\n",
      "822:\tlearn: 0.4402240\ttotal: 3.38s\tremaining: 728ms\n",
      "823:\tlearn: 0.4400856\ttotal: 3.39s\tremaining: 724ms\n",
      "824:\tlearn: 0.4397327\ttotal: 3.39s\tremaining: 720ms\n",
      "825:\tlearn: 0.4395043\ttotal: 3.4s\tremaining: 715ms\n",
      "826:\tlearn: 0.4392421\ttotal: 3.4s\tremaining: 711ms\n",
      "827:\tlearn: 0.4390756\ttotal: 3.4s\tremaining: 707ms\n",
      "828:\tlearn: 0.4388971\ttotal: 3.41s\tremaining: 703ms\n",
      "829:\tlearn: 0.4387272\ttotal: 3.41s\tremaining: 699ms\n",
      "830:\tlearn: 0.4385992\ttotal: 3.42s\tremaining: 695ms\n",
      "831:\tlearn: 0.4384181\ttotal: 3.42s\tremaining: 690ms\n",
      "832:\tlearn: 0.4382756\ttotal: 3.42s\tremaining: 686ms\n",
      "833:\tlearn: 0.4381069\ttotal: 3.43s\tremaining: 682ms\n",
      "834:\tlearn: 0.4379081\ttotal: 3.43s\tremaining: 678ms\n",
      "835:\tlearn: 0.4376944\ttotal: 3.43s\tremaining: 674ms\n",
      "836:\tlearn: 0.4375583\ttotal: 3.44s\tremaining: 670ms\n",
      "837:\tlearn: 0.4373844\ttotal: 3.44s\tremaining: 665ms\n",
      "838:\tlearn: 0.4371948\ttotal: 3.44s\tremaining: 661ms\n",
      "839:\tlearn: 0.4369781\ttotal: 3.45s\tremaining: 657ms\n",
      "840:\tlearn: 0.4368499\ttotal: 3.45s\tremaining: 653ms\n",
      "841:\tlearn: 0.4366863\ttotal: 3.46s\tremaining: 649ms\n",
      "842:\tlearn: 0.4364507\ttotal: 3.46s\tremaining: 644ms\n",
      "843:\tlearn: 0.4361877\ttotal: 3.46s\tremaining: 640ms\n",
      "844:\tlearn: 0.4360242\ttotal: 3.47s\tremaining: 636ms\n",
      "845:\tlearn: 0.4358632\ttotal: 3.47s\tremaining: 632ms\n",
      "846:\tlearn: 0.4355532\ttotal: 3.47s\tremaining: 627ms\n",
      "847:\tlearn: 0.4351787\ttotal: 3.48s\tremaining: 623ms\n",
      "848:\tlearn: 0.4350022\ttotal: 3.48s\tremaining: 619ms\n",
      "849:\tlearn: 0.4348315\ttotal: 3.48s\tremaining: 615ms\n",
      "850:\tlearn: 0.4346242\ttotal: 3.49s\tremaining: 611ms\n",
      "851:\tlearn: 0.4344889\ttotal: 3.5s\tremaining: 607ms\n",
      "852:\tlearn: 0.4342478\ttotal: 3.5s\tremaining: 603ms\n",
      "853:\tlearn: 0.4341421\ttotal: 3.5s\tremaining: 599ms\n",
      "854:\tlearn: 0.4340100\ttotal: 3.51s\tremaining: 595ms\n",
      "855:\tlearn: 0.4338214\ttotal: 3.51s\tremaining: 591ms\n",
      "856:\tlearn: 0.4335591\ttotal: 3.52s\tremaining: 587ms\n",
      "857:\tlearn: 0.4333772\ttotal: 3.52s\tremaining: 583ms\n",
      "858:\tlearn: 0.4332146\ttotal: 3.52s\tremaining: 579ms\n",
      "859:\tlearn: 0.4329900\ttotal: 3.53s\tremaining: 575ms\n",
      "860:\tlearn: 0.4326552\ttotal: 3.53s\tremaining: 571ms\n",
      "861:\tlearn: 0.4324413\ttotal: 3.54s\tremaining: 567ms\n",
      "862:\tlearn: 0.4322672\ttotal: 3.54s\tremaining: 562ms\n",
      "863:\tlearn: 0.4319911\ttotal: 3.55s\tremaining: 558ms\n",
      "864:\tlearn: 0.4317978\ttotal: 3.55s\tremaining: 554ms\n",
      "865:\tlearn: 0.4315620\ttotal: 3.55s\tremaining: 550ms\n",
      "866:\tlearn: 0.4313991\ttotal: 3.56s\tremaining: 546ms\n",
      "867:\tlearn: 0.4310555\ttotal: 3.56s\tremaining: 542ms\n",
      "868:\tlearn: 0.4308062\ttotal: 3.57s\tremaining: 538ms\n",
      "869:\tlearn: 0.4306637\ttotal: 3.57s\tremaining: 534ms\n",
      "870:\tlearn: 0.4305161\ttotal: 3.57s\tremaining: 529ms\n",
      "871:\tlearn: 0.4303136\ttotal: 3.58s\tremaining: 525ms\n",
      "872:\tlearn: 0.4301398\ttotal: 3.58s\tremaining: 521ms\n",
      "873:\tlearn: 0.4299045\ttotal: 3.59s\tremaining: 517ms\n",
      "874:\tlearn: 0.4297300\ttotal: 3.59s\tremaining: 513ms\n",
      "875:\tlearn: 0.4295427\ttotal: 3.59s\tremaining: 509ms\n",
      "876:\tlearn: 0.4294253\ttotal: 3.6s\tremaining: 505ms\n",
      "877:\tlearn: 0.4292275\ttotal: 3.6s\tremaining: 500ms\n",
      "878:\tlearn: 0.4290558\ttotal: 3.6s\tremaining: 496ms\n",
      "879:\tlearn: 0.4289177\ttotal: 3.61s\tremaining: 492ms\n",
      "880:\tlearn: 0.4286950\ttotal: 3.61s\tremaining: 488ms\n",
      "881:\tlearn: 0.4285298\ttotal: 3.62s\tremaining: 484ms\n",
      "882:\tlearn: 0.4284003\ttotal: 3.62s\tremaining: 480ms\n",
      "883:\tlearn: 0.4281655\ttotal: 3.62s\tremaining: 476ms\n",
      "884:\tlearn: 0.4278508\ttotal: 3.63s\tremaining: 471ms\n",
      "885:\tlearn: 0.4276424\ttotal: 3.63s\tremaining: 467ms\n",
      "886:\tlearn: 0.4275127\ttotal: 3.63s\tremaining: 463ms\n",
      "887:\tlearn: 0.4274042\ttotal: 3.64s\tremaining: 459ms\n",
      "888:\tlearn: 0.4271781\ttotal: 3.64s\tremaining: 455ms\n",
      "889:\tlearn: 0.4269074\ttotal: 3.65s\tremaining: 451ms\n",
      "890:\tlearn: 0.4267125\ttotal: 3.65s\tremaining: 447ms\n",
      "891:\tlearn: 0.4265137\ttotal: 3.66s\tremaining: 443ms\n",
      "892:\tlearn: 0.4262809\ttotal: 3.66s\tremaining: 439ms\n",
      "893:\tlearn: 0.4261513\ttotal: 3.67s\tremaining: 435ms\n",
      "894:\tlearn: 0.4258381\ttotal: 3.67s\tremaining: 431ms\n",
      "895:\tlearn: 0.4257301\ttotal: 3.68s\tremaining: 427ms\n",
      "896:\tlearn: 0.4255638\ttotal: 3.68s\tremaining: 423ms\n",
      "897:\tlearn: 0.4252630\ttotal: 3.69s\tremaining: 419ms\n",
      "898:\tlearn: 0.4250301\ttotal: 3.69s\tremaining: 414ms\n",
      "899:\tlearn: 0.4247486\ttotal: 3.69s\tremaining: 410ms\n",
      "900:\tlearn: 0.4244927\ttotal: 3.7s\tremaining: 406ms\n",
      "901:\tlearn: 0.4242344\ttotal: 3.7s\tremaining: 402ms\n",
      "902:\tlearn: 0.4240555\ttotal: 3.7s\tremaining: 398ms\n",
      "903:\tlearn: 0.4238494\ttotal: 3.71s\tremaining: 394ms\n",
      "904:\tlearn: 0.4236451\ttotal: 3.71s\tremaining: 390ms\n",
      "905:\tlearn: 0.4234265\ttotal: 3.72s\tremaining: 386ms\n",
      "906:\tlearn: 0.4232554\ttotal: 3.72s\tremaining: 382ms\n",
      "907:\tlearn: 0.4230979\ttotal: 3.73s\tremaining: 378ms\n",
      "908:\tlearn: 0.4229195\ttotal: 3.74s\tremaining: 374ms\n",
      "909:\tlearn: 0.4228162\ttotal: 3.74s\tremaining: 370ms\n",
      "910:\tlearn: 0.4225337\ttotal: 3.74s\tremaining: 366ms\n",
      "911:\tlearn: 0.4224103\ttotal: 3.75s\tremaining: 362ms\n",
      "912:\tlearn: 0.4222509\ttotal: 3.75s\tremaining: 358ms\n",
      "913:\tlearn: 0.4220249\ttotal: 3.76s\tremaining: 353ms\n",
      "914:\tlearn: 0.4218461\ttotal: 3.76s\tremaining: 349ms\n",
      "915:\tlearn: 0.4216881\ttotal: 3.76s\tremaining: 345ms\n",
      "916:\tlearn: 0.4215303\ttotal: 3.77s\tremaining: 341ms\n",
      "917:\tlearn: 0.4213474\ttotal: 3.77s\tremaining: 337ms\n",
      "918:\tlearn: 0.4211506\ttotal: 3.78s\tremaining: 333ms\n",
      "919:\tlearn: 0.4208767\ttotal: 3.78s\tremaining: 329ms\n",
      "920:\tlearn: 0.4207517\ttotal: 3.78s\tremaining: 325ms\n",
      "921:\tlearn: 0.4205808\ttotal: 3.79s\tremaining: 320ms\n",
      "922:\tlearn: 0.4203343\ttotal: 3.79s\tremaining: 316ms\n",
      "923:\tlearn: 0.4201825\ttotal: 3.8s\tremaining: 312ms\n",
      "924:\tlearn: 0.4198965\ttotal: 3.8s\tremaining: 308ms\n",
      "925:\tlearn: 0.4197048\ttotal: 3.8s\tremaining: 304ms\n",
      "926:\tlearn: 0.4195027\ttotal: 3.81s\tremaining: 300ms\n",
      "927:\tlearn: 0.4193319\ttotal: 3.81s\tremaining: 296ms\n",
      "928:\tlearn: 0.4190887\ttotal: 3.81s\tremaining: 292ms\n",
      "929:\tlearn: 0.4189557\ttotal: 3.82s\tremaining: 287ms\n",
      "930:\tlearn: 0.4187293\ttotal: 3.82s\tremaining: 283ms\n",
      "931:\tlearn: 0.4185800\ttotal: 3.83s\tremaining: 279ms\n",
      "932:\tlearn: 0.4183713\ttotal: 3.83s\tremaining: 275ms\n",
      "933:\tlearn: 0.4181475\ttotal: 3.83s\tremaining: 271ms\n",
      "934:\tlearn: 0.4179905\ttotal: 3.84s\tremaining: 267ms\n",
      "935:\tlearn: 0.4177242\ttotal: 3.84s\tremaining: 263ms\n",
      "936:\tlearn: 0.4176047\ttotal: 3.85s\tremaining: 259ms\n",
      "937:\tlearn: 0.4174300\ttotal: 3.85s\tremaining: 255ms\n",
      "938:\tlearn: 0.4172884\ttotal: 3.85s\tremaining: 250ms\n",
      "939:\tlearn: 0.4170159\ttotal: 3.86s\tremaining: 246ms\n",
      "940:\tlearn: 0.4167913\ttotal: 3.86s\tremaining: 242ms\n",
      "941:\tlearn: 0.4166040\ttotal: 3.87s\tremaining: 238ms\n",
      "942:\tlearn: 0.4163851\ttotal: 3.87s\tremaining: 234ms\n",
      "943:\tlearn: 0.4162581\ttotal: 3.87s\tremaining: 230ms\n",
      "944:\tlearn: 0.4160840\ttotal: 3.88s\tremaining: 226ms\n",
      "945:\tlearn: 0.4158816\ttotal: 3.88s\tremaining: 221ms\n",
      "946:\tlearn: 0.4156364\ttotal: 3.88s\tremaining: 217ms\n",
      "947:\tlearn: 0.4154262\ttotal: 3.89s\tremaining: 213ms\n",
      "948:\tlearn: 0.4152321\ttotal: 3.89s\tremaining: 209ms\n",
      "949:\tlearn: 0.4151048\ttotal: 3.9s\tremaining: 205ms\n",
      "950:\tlearn: 0.4149257\ttotal: 3.9s\tremaining: 201ms\n",
      "951:\tlearn: 0.4147306\ttotal: 3.9s\tremaining: 197ms\n",
      "952:\tlearn: 0.4145880\ttotal: 3.91s\tremaining: 193ms\n",
      "953:\tlearn: 0.4144301\ttotal: 3.91s\tremaining: 189ms\n",
      "954:\tlearn: 0.4141759\ttotal: 3.92s\tremaining: 185ms\n",
      "955:\tlearn: 0.4140620\ttotal: 3.92s\tremaining: 180ms\n",
      "956:\tlearn: 0.4139060\ttotal: 3.92s\tremaining: 176ms\n",
      "957:\tlearn: 0.4137284\ttotal: 3.93s\tremaining: 172ms\n",
      "958:\tlearn: 0.4134485\ttotal: 3.93s\tremaining: 168ms\n",
      "959:\tlearn: 0.4132050\ttotal: 3.94s\tremaining: 164ms\n",
      "960:\tlearn: 0.4130488\ttotal: 3.94s\tremaining: 160ms\n",
      "961:\tlearn: 0.4128492\ttotal: 3.94s\tremaining: 156ms\n",
      "962:\tlearn: 0.4127201\ttotal: 3.95s\tremaining: 152ms\n",
      "963:\tlearn: 0.4125179\ttotal: 3.95s\tremaining: 148ms\n",
      "964:\tlearn: 0.4123556\ttotal: 3.95s\tremaining: 143ms\n",
      "965:\tlearn: 0.4122288\ttotal: 3.96s\tremaining: 139ms\n",
      "966:\tlearn: 0.4120124\ttotal: 3.96s\tremaining: 135ms\n",
      "967:\tlearn: 0.4118487\ttotal: 3.97s\tremaining: 131ms\n",
      "968:\tlearn: 0.4116281\ttotal: 3.97s\tremaining: 127ms\n",
      "969:\tlearn: 0.4114496\ttotal: 3.97s\tremaining: 123ms\n",
      "970:\tlearn: 0.4112292\ttotal: 3.98s\tremaining: 119ms\n",
      "971:\tlearn: 0.4109152\ttotal: 3.98s\tremaining: 115ms\n",
      "972:\tlearn: 0.4106458\ttotal: 3.99s\tremaining: 111ms\n",
      "973:\tlearn: 0.4103368\ttotal: 3.99s\tremaining: 107ms\n",
      "974:\tlearn: 0.4100796\ttotal: 4s\tremaining: 102ms\n",
      "975:\tlearn: 0.4099438\ttotal: 4s\tremaining: 98.4ms\n",
      "976:\tlearn: 0.4097094\ttotal: 4s\tremaining: 94.3ms\n",
      "977:\tlearn: 0.4095900\ttotal: 4.01s\tremaining: 90.2ms\n",
      "978:\tlearn: 0.4093864\ttotal: 4.01s\tremaining: 86.1ms\n",
      "979:\tlearn: 0.4091325\ttotal: 4.02s\tremaining: 82ms\n",
      "980:\tlearn: 0.4090261\ttotal: 4.02s\tremaining: 77.9ms\n",
      "981:\tlearn: 0.4088922\ttotal: 4.03s\tremaining: 73.8ms\n",
      "982:\tlearn: 0.4087400\ttotal: 4.03s\tremaining: 69.7ms\n",
      "983:\tlearn: 0.4086092\ttotal: 4.03s\tremaining: 65.6ms\n",
      "984:\tlearn: 0.4082653\ttotal: 4.04s\tremaining: 61.5ms\n",
      "985:\tlearn: 0.4081339\ttotal: 4.04s\tremaining: 57.4ms\n",
      "986:\tlearn: 0.4080055\ttotal: 4.05s\tremaining: 53.3ms\n",
      "987:\tlearn: 0.4078918\ttotal: 4.05s\tremaining: 49.2ms\n",
      "988:\tlearn: 0.4077175\ttotal: 4.05s\tremaining: 45.1ms\n",
      "989:\tlearn: 0.4075099\ttotal: 4.06s\tremaining: 41ms\n",
      "990:\tlearn: 0.4073940\ttotal: 4.06s\tremaining: 36.9ms\n",
      "991:\tlearn: 0.4070988\ttotal: 4.07s\tremaining: 32.8ms\n",
      "992:\tlearn: 0.4068664\ttotal: 4.07s\tremaining: 28.7ms\n",
      "993:\tlearn: 0.4067424\ttotal: 4.08s\tremaining: 24.6ms\n",
      "994:\tlearn: 0.4065644\ttotal: 4.08s\tremaining: 20.5ms\n",
      "995:\tlearn: 0.4064225\ttotal: 4.08s\tremaining: 16.4ms\n",
      "996:\tlearn: 0.4062825\ttotal: 4.09s\tremaining: 12.3ms\n",
      "997:\tlearn: 0.4060673\ttotal: 4.09s\tremaining: 8.2ms\n",
      "998:\tlearn: 0.4057836\ttotal: 4.1s\tremaining: 4.1ms\n",
      "999:\tlearn: 0.4055209\ttotal: 4.1s\tremaining: 0us\n"
     ]
    }
   ],
   "source": [
    "catb = CatBoostClassifier().fit(X_train,y_train)\n",
    "y_pred = catb.predict(X_test)\n",
    "algorithms[\"CatBoost\"] = accuracy_score(y_test,y_pred)"
   ]
  },
  {
   "cell_type": "code",
   "execution_count": 35,
   "id": "79624bdc",
   "metadata": {
    "execution": {
     "iopub.execute_input": "2021-08-15T09:49:47.720654Z",
     "iopub.status.busy": "2021-08-15T09:49:47.719640Z",
     "iopub.status.idle": "2021-08-15T09:49:47.725845Z",
     "shell.execute_reply": "2021-08-15T09:49:47.724811Z",
     "shell.execute_reply.started": "2021-08-15T09:14:37.226601Z"
    },
    "papermill": {
     "duration": 0.067846,
     "end_time": "2021-08-15T09:49:47.726062",
     "exception": false,
     "start_time": "2021-08-15T09:49:47.658216",
     "status": "completed"
    },
    "tags": []
   },
   "outputs": [
    {
     "name": "stdout",
     "output_type": "stream",
     "text": [
      "Accuracy Score: 0.75\n"
     ]
    }
   ],
   "source": [
    "print(\"Accuracy Score:\", accuracy_score(y_test,y_pred))"
   ]
  },
  {
   "cell_type": "markdown",
   "id": "d045c034",
   "metadata": {
    "papermill": {
     "duration": 0.056514,
     "end_time": "2021-08-15T09:49:47.838794",
     "exception": false,
     "start_time": "2021-08-15T09:49:47.782280",
     "status": "completed"
    },
    "tags": []
   },
   "source": [
    "<br> <br>\n",
    "\n",
    "#### CatBoost: Model Tuning "
   ]
  },
  {
   "cell_type": "code",
   "execution_count": 36,
   "id": "2a40107d",
   "metadata": {
    "_kg_hide-output": true,
    "execution": {
     "iopub.execute_input": "2021-08-15T09:49:47.956972Z",
     "iopub.status.busy": "2021-08-15T09:49:47.956306Z",
     "iopub.status.idle": "2021-08-15T09:50:49.926879Z",
     "shell.execute_reply": "2021-08-15T09:50:49.927391Z",
     "shell.execute_reply.started": "2021-08-15T09:14:37.234168Z"
    },
    "papermill": {
     "duration": 62.033676,
     "end_time": "2021-08-15T09:50:49.927605",
     "exception": false,
     "start_time": "2021-08-15T09:49:47.893929",
     "status": "completed"
    },
    "tags": []
   },
   "outputs": [
    {
     "name": "stdout",
     "output_type": "stream",
     "text": [
      "Fitting 2 folds for each of 27 candidates, totalling 54 fits\n"
     ]
    },
    {
     "name": "stderr",
     "output_type": "stream",
     "text": [
      "[Parallel(n_jobs=-1)]: Using backend LokyBackend with 4 concurrent workers.\n",
      "[Parallel(n_jobs=-1)]: Done  33 tasks      | elapsed:   27.1s\n",
      "[Parallel(n_jobs=-1)]: Done  54 out of  54 | elapsed:  1.0min finished\n"
     ]
    }
   ],
   "source": [
    "catb = CatBoostClassifier()\n",
    "\n",
    "catb_params = {\"learning_rate\":[0.01,0.03,0.1],\n",
    "              \"iterations\":[100,200,500],\n",
    "              \"depth\":[4,5,8]}\n",
    "\n",
    "catb_cv_model = GridSearchCV(catb, catb_params, cv=2, n_jobs=-1,verbose=2).fit(X_train,y_train,verbose=False)"
   ]
  },
  {
   "cell_type": "code",
   "execution_count": 37,
   "id": "d6ba208f",
   "metadata": {
    "execution": {
     "iopub.execute_input": "2021-08-15T09:50:50.053131Z",
     "iopub.status.busy": "2021-08-15T09:50:50.052485Z",
     "iopub.status.idle": "2021-08-15T09:50:50.055639Z",
     "shell.execute_reply": "2021-08-15T09:50:50.056080Z",
     "shell.execute_reply.started": "2021-08-15T09:16:09.545525Z"
    },
    "papermill": {
     "duration": 0.067952,
     "end_time": "2021-08-15T09:50:50.056264",
     "exception": false,
     "start_time": "2021-08-15T09:50:49.988312",
     "status": "completed"
    },
    "tags": []
   },
   "outputs": [
    {
     "data": {
      "text/plain": [
       "{'depth': 8, 'iterations': 100, 'learning_rate': 0.1}"
      ]
     },
     "execution_count": 37,
     "metadata": {},
     "output_type": "execute_result"
    }
   ],
   "source": [
    "catb_cv_model.best_params_"
   ]
  },
  {
   "cell_type": "code",
   "execution_count": 38,
   "id": "6f3b2b0b",
   "metadata": {
    "execution": {
     "iopub.execute_input": "2021-08-15T09:50:50.173335Z",
     "iopub.status.busy": "2021-08-15T09:50:50.172656Z",
     "iopub.status.idle": "2021-08-15T09:50:50.179221Z",
     "shell.execute_reply": "2021-08-15T09:50:50.178074Z",
     "shell.execute_reply.started": "2021-08-15T09:16:09.554953Z"
    },
    "papermill": {
     "duration": 0.06721,
     "end_time": "2021-08-15T09:50:50.179438",
     "exception": false,
     "start_time": "2021-08-15T09:50:50.112228",
     "status": "completed"
    },
    "tags": []
   },
   "outputs": [
    {
     "data": {
      "text/plain": [
       "0.755"
      ]
     },
     "execution_count": 38,
     "metadata": {},
     "output_type": "execute_result"
    }
   ],
   "source": [
    "catb_cv_model.best_score_"
   ]
  },
  {
   "cell_type": "code",
   "execution_count": 39,
   "id": "a8d62e17",
   "metadata": {
    "execution": {
     "iopub.execute_input": "2021-08-15T09:50:50.704017Z",
     "iopub.status.busy": "2021-08-15T09:50:50.702996Z",
     "iopub.status.idle": "2021-08-15T09:50:51.664059Z",
     "shell.execute_reply": "2021-08-15T09:50:51.663568Z",
     "shell.execute_reply.started": "2021-08-15T09:16:09.566375Z"
    },
    "papermill": {
     "duration": 1.425679,
     "end_time": "2021-08-15T09:50:51.664220",
     "exception": false,
     "start_time": "2021-08-15T09:50:50.238541",
     "status": "completed"
    },
    "tags": []
   },
   "outputs": [],
   "source": [
    "catb_tuned = CatBoostClassifier(learning_rate=catb_cv_model.best_params_[\"learning_rate\"],\n",
    "                           iterations=catb_cv_model.best_params_[\"iterations\"],\n",
    "                           depth=catb_cv_model.best_params_[\"depth\"]).fit(X_train,y_train,verbose=False)\n",
    "\n",
    "y_pred = catb_tuned.predict(X_test)"
   ]
  },
  {
   "cell_type": "code",
   "execution_count": 40,
   "id": "48d9a54f",
   "metadata": {
    "execution": {
     "iopub.execute_input": "2021-08-15T09:50:51.784051Z",
     "iopub.status.busy": "2021-08-15T09:50:51.783182Z",
     "iopub.status.idle": "2021-08-15T09:50:51.787568Z",
     "shell.execute_reply": "2021-08-15T09:50:51.788035Z",
     "shell.execute_reply.started": "2021-08-15T09:16:11.468546Z"
    },
    "papermill": {
     "duration": 0.066911,
     "end_time": "2021-08-15T09:50:51.788222",
     "exception": false,
     "start_time": "2021-08-15T09:50:51.721311",
     "status": "completed"
    },
    "tags": []
   },
   "outputs": [
    {
     "name": "stdout",
     "output_type": "stream",
     "text": [
      "Accuracy Score: 0.755\n"
     ]
    }
   ],
   "source": [
    "algorithms[\"CatBoost_Tuned\"] = accuracy_score(y_test,y_pred)\n",
    "print(\"Accuracy Score:\", accuracy_score(y_test,y_pred))"
   ]
  },
  {
   "cell_type": "code",
   "execution_count": 41,
   "id": "ede26723",
   "metadata": {
    "execution": {
     "iopub.execute_input": "2021-08-15T09:50:51.906549Z",
     "iopub.status.busy": "2021-08-15T09:50:51.905579Z",
     "iopub.status.idle": "2021-08-15T09:50:51.915137Z",
     "shell.execute_reply": "2021-08-15T09:50:51.913867Z",
     "shell.execute_reply.started": "2021-08-15T09:16:11.479022Z"
    },
    "papermill": {
     "duration": 0.071021,
     "end_time": "2021-08-15T09:50:51.915336",
     "exception": false,
     "start_time": "2021-08-15T09:50:51.844315",
     "status": "completed"
    },
    "tags": []
   },
   "outputs": [
    {
     "name": "stdout",
     "output_type": "stream",
     "text": [
      "              precision    recall  f1-score   support\n",
      "\n",
      "           0       0.68      0.93      0.79        97\n",
      "           1       0.90      0.59      0.71       103\n",
      "\n",
      "    accuracy                           0.76       200\n",
      "   macro avg       0.79      0.76      0.75       200\n",
      "weighted avg       0.79      0.76      0.75       200\n",
      "\n"
     ]
    }
   ],
   "source": [
    "print(classification_report(y_test,y_pred))"
   ]
  },
  {
   "cell_type": "markdown",
   "id": "1a9cee6d",
   "metadata": {
    "papermill": {
     "duration": 0.059117,
     "end_time": "2021-08-15T09:50:52.031707",
     "exception": false,
     "start_time": "2021-08-15T09:50:51.972590",
     "status": "completed"
    },
    "tags": []
   },
   "source": [
    "<h3 style=\"background-color:#4A6FA5;font-family:newtimeroman;font-size:150%;text-align:left;border-radius: 5px 5px;color:#dbe9ee\">SVC</h3><a id=\"15\"></a>"
   ]
  },
  {
   "cell_type": "code",
   "execution_count": 42,
   "id": "60b76eb9",
   "metadata": {
    "execution": {
     "iopub.execute_input": "2021-08-15T09:50:52.155176Z",
     "iopub.status.busy": "2021-08-15T09:50:52.154505Z",
     "iopub.status.idle": "2021-08-15T09:50:54.059999Z",
     "shell.execute_reply": "2021-08-15T09:50:54.059227Z",
     "shell.execute_reply.started": "2021-08-15T09:16:11.492834Z"
    },
    "papermill": {
     "duration": 1.96923,
     "end_time": "2021-08-15T09:50:54.060214",
     "exception": false,
     "start_time": "2021-08-15T09:50:52.090984",
     "status": "completed"
    },
    "tags": []
   },
   "outputs": [
    {
     "name": "stdout",
     "output_type": "stream",
     "text": [
      "Accuracy Score: 0.735\n"
     ]
    }
   ],
   "source": [
    "svm_model = SVC(kernel = \"rbf\").fit(X_train,y_train)\n",
    "y_pred = svm_model.predict(X_test)\n",
    "print(\"Accuracy Score:\", accuracy_score(y_test,y_pred))\n",
    "algorithms[\"SVC\"] = accuracy_score(y_test,y_pred)"
   ]
  },
  {
   "cell_type": "markdown",
   "id": "3f8ce949",
   "metadata": {
    "papermill": {
     "duration": 0.05698,
     "end_time": "2021-08-15T09:50:54.175058",
     "exception": false,
     "start_time": "2021-08-15T09:50:54.118078",
     "status": "completed"
    },
    "tags": []
   },
   "source": [
    "<br> <br>\n",
    "\n",
    "#### SVC: Model Tuning "
   ]
  },
  {
   "cell_type": "code",
   "execution_count": 43,
   "id": "f04bb101",
   "metadata": {
    "_kg_hide-output": true,
    "execution": {
     "iopub.execute_input": "2021-08-15T09:50:54.297388Z",
     "iopub.status.busy": "2021-08-15T09:50:54.296052Z",
     "iopub.status.idle": "2021-08-15T09:51:00.791386Z",
     "shell.execute_reply": "2021-08-15T09:51:00.790794Z",
     "shell.execute_reply.started": "2021-08-15T09:16:13.044212Z"
    },
    "papermill": {
     "duration": 6.559305,
     "end_time": "2021-08-15T09:51:00.791538",
     "exception": false,
     "start_time": "2021-08-15T09:50:54.232233",
     "status": "completed"
    },
    "tags": []
   },
   "outputs": [
    {
     "name": "stdout",
     "output_type": "stream",
     "text": [
      "Fitting 3 folds for each of 6 candidates, totalling 18 fits\n"
     ]
    },
    {
     "name": "stderr",
     "output_type": "stream",
     "text": [
      "[Parallel(n_jobs=-1)]: Using backend LokyBackend with 4 concurrent workers.\n",
      "[Parallel(n_jobs=-1)]: Done  18 out of  18 | elapsed:    4.8s finished\n"
     ]
    }
   ],
   "source": [
    "svm = SVC()\n",
    "svm_params = {\"C\":np.arange(1,3),\n",
    "             \"kernel\":[\"linear\",\"rbf\",\"sigmoid\"]}\n",
    "svm_cv_model = GridSearchCV(svm,svm_params,cv=3,verbose=2,n_jobs=-1).fit(X_train,y_train)\n"
   ]
  },
  {
   "cell_type": "code",
   "execution_count": 44,
   "id": "f8353240",
   "metadata": {
    "execution": {
     "iopub.execute_input": "2021-08-15T09:51:00.917227Z",
     "iopub.status.busy": "2021-08-15T09:51:00.916279Z",
     "iopub.status.idle": "2021-08-15T09:51:00.920795Z",
     "shell.execute_reply": "2021-08-15T09:51:00.920285Z",
     "shell.execute_reply.started": "2021-08-15T09:16:21.346691Z"
    },
    "papermill": {
     "duration": 0.06813,
     "end_time": "2021-08-15T09:51:00.920947",
     "exception": false,
     "start_time": "2021-08-15T09:51:00.852817",
     "status": "completed"
    },
    "tags": []
   },
   "outputs": [
    {
     "data": {
      "text/plain": [
       "{'C': 2, 'kernel': 'rbf'}"
      ]
     },
     "execution_count": 44,
     "metadata": {},
     "output_type": "execute_result"
    }
   ],
   "source": [
    "svm_cv_model.best_params_"
   ]
  },
  {
   "cell_type": "code",
   "execution_count": 45,
   "id": "aefc1ef5",
   "metadata": {
    "execution": {
     "iopub.execute_input": "2021-08-15T09:51:01.100768Z",
     "iopub.status.busy": "2021-08-15T09:51:01.100158Z",
     "iopub.status.idle": "2021-08-15T09:51:01.104493Z",
     "shell.execute_reply": "2021-08-15T09:51:01.103994Z",
     "shell.execute_reply.started": "2021-08-15T09:16:21.354119Z"
    },
    "papermill": {
     "duration": 0.07197,
     "end_time": "2021-08-15T09:51:01.104636",
     "exception": false,
     "start_time": "2021-08-15T09:51:01.032666",
     "status": "completed"
    },
    "tags": []
   },
   "outputs": [
    {
     "data": {
      "text/plain": [
       "0.7724507898960886"
      ]
     },
     "execution_count": 45,
     "metadata": {},
     "output_type": "execute_result"
    }
   ],
   "source": [
    "svm_cv_model.best_score_"
   ]
  },
  {
   "cell_type": "code",
   "execution_count": 46,
   "id": "20bd5efd",
   "metadata": {
    "execution": {
     "iopub.execute_input": "2021-08-15T09:51:01.229613Z",
     "iopub.status.busy": "2021-08-15T09:51:01.228943Z",
     "iopub.status.idle": "2021-08-15T09:51:03.173006Z",
     "shell.execute_reply": "2021-08-15T09:51:03.172459Z",
     "shell.execute_reply.started": "2021-08-15T09:16:21.367077Z"
    },
    "papermill": {
     "duration": 2.008626,
     "end_time": "2021-08-15T09:51:03.173166",
     "exception": false,
     "start_time": "2021-08-15T09:51:01.164540",
     "status": "completed"
    },
    "tags": []
   },
   "outputs": [],
   "source": [
    "svm_tuned = SVC(C=svm_cv_model.best_params_[\"C\"],\n",
    "               kernel=svm_cv_model.best_params_[\"kernel\"]).fit(X_train,y_train)\n",
    "\n",
    "y_pred = svm_tuned.predict(X_test)"
   ]
  },
  {
   "cell_type": "code",
   "execution_count": 47,
   "id": "f6b60b26",
   "metadata": {
    "execution": {
     "iopub.execute_input": "2021-08-15T09:51:03.297012Z",
     "iopub.status.busy": "2021-08-15T09:51:03.296426Z",
     "iopub.status.idle": "2021-08-15T09:51:03.301372Z",
     "shell.execute_reply": "2021-08-15T09:51:03.300919Z",
     "shell.execute_reply.started": "2021-08-15T09:16:22.971084Z"
    },
    "papermill": {
     "duration": 0.067786,
     "end_time": "2021-08-15T09:51:03.301513",
     "exception": false,
     "start_time": "2021-08-15T09:51:03.233727",
     "status": "completed"
    },
    "tags": []
   },
   "outputs": [
    {
     "name": "stdout",
     "output_type": "stream",
     "text": [
      "Accuracy Score: 0.77\n"
     ]
    }
   ],
   "source": [
    "algorithms[\"SVC_Tuned\"] = accuracy_score(y_test,y_pred)\n",
    "print(\"Accuracy Score:\", accuracy_score(y_test,y_pred))"
   ]
  },
  {
   "cell_type": "code",
   "execution_count": 48,
   "id": "20192427",
   "metadata": {
    "execution": {
     "iopub.execute_input": "2021-08-15T09:51:03.422257Z",
     "iopub.status.busy": "2021-08-15T09:51:03.421623Z",
     "iopub.status.idle": "2021-08-15T09:51:03.428557Z",
     "shell.execute_reply": "2021-08-15T09:51:03.428027Z",
     "shell.execute_reply.started": "2021-08-15T09:16:22.979474Z"
    },
    "papermill": {
     "duration": 0.069494,
     "end_time": "2021-08-15T09:51:03.428689",
     "exception": false,
     "start_time": "2021-08-15T09:51:03.359195",
     "status": "completed"
    },
    "tags": []
   },
   "outputs": [
    {
     "name": "stdout",
     "output_type": "stream",
     "text": [
      "              precision    recall  f1-score   support\n",
      "\n",
      "           0       0.70      0.91      0.79        97\n",
      "           1       0.88      0.64      0.74       103\n",
      "\n",
      "    accuracy                           0.77       200\n",
      "   macro avg       0.79      0.77      0.77       200\n",
      "weighted avg       0.79      0.77      0.77       200\n",
      "\n"
     ]
    }
   ],
   "source": [
    "print(classification_report(y_test,y_pred))"
   ]
  },
  {
   "cell_type": "markdown",
   "id": "38db2b67",
   "metadata": {
    "papermill": {
     "duration": 0.059377,
     "end_time": "2021-08-15T09:51:03.547965",
     "exception": false,
     "start_time": "2021-08-15T09:51:03.488588",
     "status": "completed"
    },
    "tags": []
   },
   "source": [
    "<br> <br> <br>\n",
    "\n",
    "<h3 style=\"background-color:#4F6D7A;font-family:newtimeroman;font-size:175%;text-align:left;border-radius: 5px 5px;color:#dbe9ee\">Conclusion</h3><a id=\"17\"></a>"
   ]
  },
  {
   "cell_type": "markdown",
   "id": "18a740ae",
   "metadata": {
    "papermill": {
     "duration": 0.061556,
     "end_time": "2021-08-15T09:51:03.669501",
     "exception": false,
     "start_time": "2021-08-15T09:51:03.607945",
     "status": "completed"
    },
    "tags": []
   },
   "source": [
    "#### Accuracy Scores of Algorithms;"
   ]
  },
  {
   "cell_type": "code",
   "execution_count": 49,
   "id": "093f5b13",
   "metadata": {
    "execution": {
     "iopub.execute_input": "2021-08-15T09:51:03.797107Z",
     "iopub.status.busy": "2021-08-15T09:51:03.796477Z",
     "iopub.status.idle": "2021-08-15T09:51:03.800221Z",
     "shell.execute_reply": "2021-08-15T09:51:03.799700Z",
     "shell.execute_reply.started": "2021-08-15T09:16:22.994736Z"
    },
    "papermill": {
     "duration": 0.068505,
     "end_time": "2021-08-15T09:51:03.800386",
     "exception": false,
     "start_time": "2021-08-15T09:51:03.731881",
     "status": "completed"
    },
    "tags": []
   },
   "outputs": [
    {
     "data": {
      "text/plain": [
       "{'BernoulliNB': 0.775,\n",
       " 'GaussianNB': 0.73,\n",
       " 'MultinomialNB': 0.77,\n",
       " 'MLPClassifier': 0.755,\n",
       " 'XGBoost': 0.7,\n",
       " 'CatBoost': 0.75,\n",
       " 'CatBoost_Tuned': 0.755,\n",
       " 'SVC': 0.735,\n",
       " 'SVC_Tuned': 0.77}"
      ]
     },
     "execution_count": 49,
     "metadata": {},
     "output_type": "execute_result"
    }
   ],
   "source": [
    "algorithms"
   ]
  },
  {
   "cell_type": "markdown",
   "id": "49f3e498",
   "metadata": {
    "papermill": {
     "duration": 0.059837,
     "end_time": "2021-08-15T09:51:03.921353",
     "exception": false,
     "start_time": "2021-08-15T09:51:03.861516",
     "status": "completed"
    },
    "tags": []
   },
   "source": [
    "Although the **\"BernoulliNB\"** algorithm has the highest **\"Accuracy Score\"**, this does not make it the best algorithm or the most successful model.\n",
    "\n",
    "**Before starting an NLP or ML project**, goals are determined, actions are taken in line with these goals, and metrics are selected. I mean, the metrics to look at are project dependent.\n",
    "\n",
    "**Data Preprocessing and Bag Of Words Stages** are very important in an NLP project. As this is a simple introductory notebook, these steps are not in-depth.\n",
    "\n",
    "**More successful and accurate models can be developed** with much deeper and thoughtful Data Preprocessing, Bag Of Words And Machine Learning (Especially with Optimizations) Stages."
   ]
  },
  {
   "cell_type": "markdown",
   "id": "91912fd2",
   "metadata": {
    "papermill": {
     "duration": 0.05965,
     "end_time": "2021-08-15T09:51:04.041284",
     "exception": false,
     "start_time": "2021-08-15T09:51:03.981634",
     "status": "completed"
    },
    "tags": []
   },
   "source": [
    "<h2 style=\"background-color:#166088;font-family:newtimeroman;font-size:250%;text-align:center;border-radius: 10px 10px;color:#dbe9ee\">Thank you for reading</h2>\n",
    "\n",
    "<center>\n",
    "<link rel=\"stylesheet\" href=\"https://maxcdn.bootstrapcdn.com/font-awesome/4.4.0/css/font-awesome.min.css\">\n",
    "<a href=\"https://www.linkedin.com/in/ardasamet/\" class=\"social-icon si-rounded si-small si-linkedin\">\n",
    "  <i class=\"fa fa-linkedin\">  LinkedIn</i>\n",
    "</a>\n",
    "</center>"
   ]
  }
 ],
 "metadata": {
  "kernelspec": {
   "display_name": "Python 3",
   "language": "python",
   "name": "python3"
  },
  "language_info": {
   "codemirror_mode": {
    "name": "ipython",
    "version": 3
   },
   "file_extension": ".py",
   "mimetype": "text/x-python",
   "name": "python",
   "nbconvert_exporter": "python",
   "pygments_lexer": "ipython3",
   "version": "3.7.10"
  },
  "papermill": {
   "default_parameters": {},
   "duration": 119.027886,
   "end_time": "2021-08-15T09:51:05.668457",
   "environment_variables": {},
   "exception": null,
   "input_path": "__notebook__.ipynb",
   "output_path": "__notebook__.ipynb",
   "parameters": {},
   "start_time": "2021-08-15T09:49:06.640571",
   "version": "2.3.3"
  }
 },
 "nbformat": 4,
 "nbformat_minor": 5
}
